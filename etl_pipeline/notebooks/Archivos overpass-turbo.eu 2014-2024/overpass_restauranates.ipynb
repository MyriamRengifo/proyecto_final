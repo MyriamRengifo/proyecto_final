{
  "nbformat": 4,
  "nbformat_minor": 0,
  "metadata": {
    "colab": {
      "provenance": [],
      "machine_shape": "hm"
    },
    "kernelspec": {
      "name": "python3",
      "display_name": "Python 3"
    },
    "language_info": {
      "name": "python"
    }
  },
  "cells": [
    {
      "cell_type": "code",
      "source": [
        "#Instalacion de librerias faltantes\n",
        "!pip install googlemaps\n",
        "!pip install geopy\n"
      ],
      "metadata": {
        "colab": {
          "base_uri": "https://localhost:8080/"
        },
        "id": "mMliFpIak7Hb",
        "outputId": "77264b9d-621e-4f00-c0e0-1d979b1043da"
      },
      "execution_count": null,
      "outputs": [
        {
          "output_type": "stream",
          "name": "stdout",
          "text": [
            "Requirement already satisfied: googlemaps in /usr/local/lib/python3.10/dist-packages (4.10.0)\n",
            "Requirement already satisfied: requests<3.0,>=2.20.0 in /usr/local/lib/python3.10/dist-packages (from googlemaps) (2.32.3)\n",
            "Requirement already satisfied: charset-normalizer<4,>=2 in /usr/local/lib/python3.10/dist-packages (from requests<3.0,>=2.20.0->googlemaps) (3.4.0)\n",
            "Requirement already satisfied: idna<4,>=2.5 in /usr/local/lib/python3.10/dist-packages (from requests<3.0,>=2.20.0->googlemaps) (3.10)\n",
            "Requirement already satisfied: urllib3<3,>=1.21.1 in /usr/local/lib/python3.10/dist-packages (from requests<3.0,>=2.20.0->googlemaps) (2.2.3)\n",
            "Requirement already satisfied: certifi>=2017.4.17 in /usr/local/lib/python3.10/dist-packages (from requests<3.0,>=2.20.0->googlemaps) (2024.8.30)\n",
            "Requirement already satisfied: geopy in /usr/local/lib/python3.10/dist-packages (2.4.1)\n",
            "Requirement already satisfied: geographiclib<3,>=1.52 in /usr/local/lib/python3.10/dist-packages (from geopy) (2.0)\n"
          ]
        }
      ]
    },
    {
      "cell_type": "markdown",
      "source": [
        "Restaurant 2024"
      ],
      "metadata": {
        "id": "vdvZ9fkScaPc"
      }
    },
    {
      "cell_type": "code",
      "source": [
        "#Librerias\n",
        "import pandas as pd\n",
        "import numpy as ny\n",
        "import googlemaps\n",
        "from geopy.geocoders import Nominatim\n",
        "from geopy.exc import GeocoderTimedOut, GeocoderInsufficientPrivileges\n",
        "from geopy.extra.rate_limiter import RateLimiter\n",
        "import logging\n",
        "import pandas as pd\n",
        "import time\n",
        "import re\n",
        "import csv\n",
        "import os\n",
        "import hashlib\n"
      ],
      "metadata": {
        "id": "_CRt79KOk5D2"
      },
      "execution_count": null,
      "outputs": []
    },
    {
      "cell_type": "markdown",
      "source": [
        "Realizamos un  primer análisis para ver la composición de las colunas y de los datos en el archivo"
      ],
      "metadata": {
        "id": "U-XtvoKVvgQ2"
      }
    },
    {
      "cell_type": "code",
      "execution_count": null,
      "metadata": {
        "colab": {
          "base_uri": "https://localhost:8080/"
        },
        "id": "K4-doNMPkJoo",
        "outputId": "197a1613-7560-48d8-dccb-d8d7f116a157"
      },
      "outputs": [
        {
          "output_type": "stream",
          "name": "stdout",
          "text": [
            "Dimensiones del dataset: (10294, 11)\n",
            "\n",
            "Nombres de las columnas: ['name', 'addr:street', 'addr:city', 'addr:state', 'addr:postcode', 'smoking', 'wheelchair', 'cuisine', 'reviews', '@lat', '@lon']\n",
            "\n",
            "Primeras filas del dataset:\n",
            "                  name   addr:street addr:city addr:state addr:postcode  \\\n",
            "0         Smokey Bones           NaN       NaN        NaN           NaN   \n",
            "1           Wing House  Kirkman Road   Orlando        NaN         32811   \n",
            "2         Ruby Tuesday           NaN       NaN        NaN           NaN   \n",
            "3              Denny's           NaN       NaN        NaN           NaN   \n",
            "4  Spaghetti Warehouse           NaN       NaN        NaN           NaN   \n",
            "\n",
            "  smoking wheelchair   cuisine  reviews       @lat       @lon  \n",
            "0      no        NaN  barbecue      NaN  28.550990 -81.203255  \n",
            "1     NaN        yes       NaN      NaN  28.503706 -81.458043  \n",
            "2     NaN        yes  american      NaN  28.503323 -81.458029  \n",
            "3     NaN        NaN  american      NaN  28.502807 -81.458022  \n",
            "4     NaN        NaN       NaN      NaN  27.961484 -82.445205  \n",
            "\n",
            "Valores nulos por columna:\n",
            "name               382\n",
            "addr:street       5122\n",
            "addr:city         5727\n",
            "addr:state        6233\n",
            "addr:postcode     5786\n",
            "smoking           9677\n",
            "wheelchair        9694\n",
            "cuisine           3490\n",
            "reviews          10294\n",
            "@lat                 0\n",
            "@lon                 0\n",
            "dtype: int64\n",
            "\n",
            "Tipos de datos:\n",
            "name              object\n",
            "addr:street       object\n",
            "addr:city         object\n",
            "addr:state        object\n",
            "addr:postcode     object\n",
            "smoking           object\n",
            "wheelchair        object\n",
            "cuisine           object\n",
            "reviews          float64\n",
            "@lat             float64\n",
            "@lon             float64\n",
            "dtype: object\n",
            "\n",
            "Estadísticas descriptivas para columnas numéricas:\n",
            "       reviews          @lat          @lon\n",
            "count      0.0  10294.000000  10294.000000\n",
            "mean       NaN     27.990438    -81.870089\n",
            "std        NaN      2.337724      1.764580\n",
            "min        NaN    -34.414626    -87.517985\n",
            "25%        NaN     26.627464    -82.494331\n",
            "50%        NaN     28.055019    -81.583520\n",
            "75%        NaN     29.172096    -80.653405\n",
            "max        NaN     30.966375    -55.132903\n",
            "\n",
            "Valores únicos por columna:\n",
            "name              7083\n",
            "addr:street       2071\n",
            "addr:city          381\n",
            "addr:state           3\n",
            "addr:postcode      673\n",
            "smoking              5\n",
            "wheelchair           4\n",
            "cuisine            628\n",
            "reviews              0\n",
            "@lat             10276\n",
            "@lon             10279\n",
            "dtype: int64\n"
          ]
        }
      ],
      "source": [
        "# 1. Cargamos los datos\n",
        "file_path = r'/content/Restaurant 2024.csv'\n",
        "data = pd.read_csv(file_path, delimiter='\\t')\n",
        "\n",
        "# 2. Realizamos una revisión general\n",
        "print(\"Dimensiones del dataset:\", data.shape)\n",
        "print(\"\\nNombres de las columnas:\", data.columns.tolist())\n",
        "print(\"\\nPrimeras filas del dataset:\")\n",
        "print(data.head())\n",
        "\n",
        "# 3. Mostramos la calidad de los datos\n",
        "print(\"\\nValores nulos por columna:\")\n",
        "print(data.isnull().sum())\n",
        "\n",
        "print(\"\\nTipos de datos:\")\n",
        "print(data.dtypes)\n",
        "\n",
        "# 4. Realisamos una estadísticas descriptivas\n",
        "print(\"\\nEstadísticas descriptivas para columnas numéricas:\")\n",
        "print(data.describe())\n",
        "\n",
        "print(\"\\nValores únicos por columna:\")\n",
        "print(data.nunique())\n"
      ]
    },
    {
      "cell_type": "markdown",
      "source": [
        "Cargamos datos faltantes en basandonos en la longitud y latitud"
      ],
      "metadata": {
        "id": "vtHPRmqtcr_p"
      }
    },
    {
      "cell_type": "code",
      "source": [
        "# Configuramos el geolocalizador con un user_agent único\n",
        "geolocator = Nominatim(user_agent=\"mi_proyecto_geocodificacion_v1\")\n",
        "\n",
        "# Función para realizar la geocodificación inversa\n",
        "def reverse_geocode(lat, lon):\n",
        "    try:\n",
        "        location = geolocator.reverse((lat, lon), timeout=10)\n",
        "        if location:\n",
        "            # Extraemos  dirección completa y ciudad\n",
        "            address = location.address\n",
        "            city = location.raw.get('address', {}).get('city', None)\n",
        "            return address, city\n",
        "        else:\n",
        "            return \"Dirección no encontrada\", None\n",
        "    except GeocoderTimedOut:\n",
        "        return \"Tiempo de espera agotado\", None\n",
        "    except GeocoderInsufficientPrivileges:\n",
        "        return \"Bloqueado: Verificar API o User-Agent\", None\n",
        "\n",
        "# Actualizamos las columnas addr:street y addr:city\n",
        "def update_address(row):\n",
        "    if pd.notna(row['@lat']) and pd.notna(row['@lon']):\n",
        "        address, city = reverse_geocode(row['@lat'], row['@lon'])\n",
        "        row['addr:street'] = address  # Guardar dirección completa\n",
        "        row['addr:city'] = city       # Actualizar ciudad\n",
        "    return row\n",
        "\n",
        "# Aplicamos una pausa de 2 segundos fila por fila con retraso para respetar los límites de solisitudes\n",
        "for index, row in data.iterrows():\n",
        "    data.loc[index] = update_address(row)\n",
        "    time.sleep(2)\n",
        "\n",
        "# Guardamos los resultados en un nuevo archivo CSV\n",
        "data.to_csv(\"/content/Restaurant 2024.csv\", index=False)\n",
        "\n",
        "# Mostramos las primeras filas actualizadas\n",
        "print(data[['@lat', '@lon', 'addr:street', 'addr:city']].head())"
      ],
      "metadata": {
        "colab": {
          "base_uri": "https://localhost:8080/"
        },
        "id": "xwKYftSEl5Dz",
        "outputId": "31695a46-c239-4383-b7ac-e497010c8efe"
      },
      "execution_count": null,
      "outputs": [
        {
          "output_type": "stream",
          "name": "stdout",
          "text": [
            "        @lat       @lon                                        addr:street  \\\n",
            "0  28.550990 -81.203255  Smokey Bones, Alafaya Trail, Waterford Lakes, ...   \n",
            "1  28.503706 -81.458043  Wing House, 3789, Kirkman Road, Orlando, Orang...   \n",
            "2  28.503323 -81.458029  Ruby Tuesday, Kirkman Road, Orlando, Orange Co...   \n",
            "3  28.502807 -81.458022  Denny's, Kirkman Road, Orlando, Orange County,...   \n",
            "4  27.961484 -82.445205  Spaghetti Warehouse, East 8th Avenue, Ybor Cit...   \n",
            "\n",
            "  addr:city  \n",
            "0      None  \n",
            "1   Orlando  \n",
            "2   Orlando  \n",
            "3   Orlando  \n",
            "4     Tampa  \n"
          ]
        }
      ]
    },
    {
      "cell_type": "markdown",
      "source": [
        "Extraemos los datos de la columna direcion"
      ],
      "metadata": {
        "id": "L5DNSGfEc7dp"
      }
    },
    {
      "cell_type": "code",
      "source": [
        "# Cargamos  los datos\n",
        "archivo = \"/content/Restaurant 2024.csv\"\n",
        "data = pd.read_csv(archivo)\n",
        "\n",
        "# Renombramos  las columnas\n",
        "data.rename(columns={\n",
        "    'addr:street': 'direccion',\n",
        "    'amenity': 'tipo',\n",
        "    '@lat': 'latitud',\n",
        "    '@lon': 'longitud'\n",
        "}, inplace=True)\n",
        "\n",
        "# Dividimos la columna direccion para extraer los datos\n",
        "direccion_split = data['direccion'].fillna('').str.split(',', expand=True)\n",
        "\n",
        "# Creamos las nuebas colunas a usar\n",
        "data['nombre'] = direccion_split[0].str.strip()\n",
        "\n",
        "# Extraemos la direccion combinando todas las partes de la dirección hasta el estado\n",
        "data['direccion'] = direccion_split.apply(\n",
        "    lambda row: ', '.join(filter(None, [row[1].strip(), row[2].strip()])), axis=1\n",
        ")\n",
        "\n",
        "# Extraemos la ciudad siempre y cuando tenga la palabra County\n",
        "data['ciudad'] = direccion_split.apply(\n",
        "    lambda row: next((x.strip() for x in row if 'County' in str(x)), 'No definido'), axis=1\n",
        ")\n",
        "\n",
        "# Extraemos el estado  \"Florida\"\n",
        "data['estado'] = direccion_split.apply(lambda row: 'Florida', axis=1)\n",
        "\n",
        "# Extraemos  y validamos los códigos postales\n",
        "data['codigo_postal'] = direccion_split.apply(\n",
        "    lambda row: next((re.search(r'\\b\\d{5}\\b', str(x)).group(0) for x in row if re.search(r'\\b\\d{5}\\b', str(x))), 'No definido'), axis=1\n",
        ")\n",
        "\n",
        "# Separamos el peis \"United States\"\n",
        "data['pais'] = direccion_split.apply(lambda row: 'United States', axis=1)\n",
        "\n",
        "# Reordenamos las columnas\n",
        "data = data[['nombre', 'direccion', 'ciudad', 'estado', 'pais', 'codigo_postal', 'longitud', 'latitud']]\n",
        "\n",
        "# Eliminamos  duplicados\n",
        "data.drop_duplicates(inplace=True)\n",
        "\n",
        "# Guardamos el resultado\n",
        "processed_file_path = '/content/Restaurant 2024.csv'\n",
        "data.to_csv(processed_file_path, index=False)\n",
        "\n",
        "# Análisamos de datos vacíos y duplicados\n",
        "vacios = data.isnull().sum()\n",
        "duplicados = data.duplicated().sum()\n",
        "\n",
        "print(\"Análisis de datos:\")\n",
        "print(\"Valores vacíos por columna:\")\n",
        "print(vacios)\n",
        "print(f\"Número de filas duplicadas: {duplicados}\")\n",
        "print(data.head())\n"
      ],
      "metadata": {
        "colab": {
          "base_uri": "https://localhost:8080/"
        },
        "id": "XxjwGiW4dFdT",
        "outputId": "2d236978-ccd7-4fc6-a492-2ee274daac57"
      },
      "execution_count": null,
      "outputs": [
        {
          "output_type": "stream",
          "name": "stdout",
          "text": [
            "Análisis de datos:\n",
            "Valores vacíos por columna:\n",
            "nombre           0\n",
            "direccion        0\n",
            "ciudad           0\n",
            "estado           0\n",
            "pais             0\n",
            "codigo_postal    0\n",
            "longitud         0\n",
            "latitud          0\n",
            "dtype: int64\n",
            "Número de filas duplicadas: 0\n",
            "                        nombre                     direccion  \\\n",
            "0                 Ruby Tuesday         Kirkman Road, Orlando   \n",
            "1                      Denny's         Kirkman Road, Orlando   \n",
            "2  El Puerto Argentinean Grill  North 17th Street, Ybor City   \n",
            "3       La Terrazza Restaurant         1727, East 7th Avenue   \n",
            "4  The Country Club of Florida              22, Country Road   \n",
            "\n",
            "                ciudad   estado           pais codigo_postal   longitud  \\\n",
            "0        Orange County  Florida  United States         32811 -81.458029   \n",
            "1        Orange County  Florida  United States         32811 -81.458022   \n",
            "2  Hillsborough County  Florida  United States         33605 -82.440585   \n",
            "3  Hillsborough County  Florida  United States         33605 -82.439679   \n",
            "4    Palm Beach County  Florida  United States         33436 -80.103306   \n",
            "\n",
            "     latitud  \n",
            "0  28.503323  \n",
            "1  28.502807  \n",
            "2  27.958677  \n",
            "3  27.960129  \n",
            "4  26.504356  \n"
          ]
        }
      ]
    },
    {
      "cell_type": "markdown",
      "source": [
        "Eliminamos la palabra County"
      ],
      "metadata": {
        "id": "pMGS-uqOeZ8d"
      }
    },
    {
      "cell_type": "code",
      "source": [
        "# Eliminamos la palabra 'County' de las columnas 'direccion' y 'ciudad'\n",
        "data['direccion'] = data['direccion'].str.replace(r'\\bCounty\\b', '', regex=True).str.strip()\n",
        "data['ciudad'] = data['ciudad'].str.replace(r'\\bCounty\\b', '', regex=True).str.strip()\n",
        "print(data[['direccion', 'ciudad']].head())\n",
        "\n",
        "# Guardamos el resultado\n",
        "processed_file_path = '/content/Restaurant 2024.csv'\n",
        "data.to_csv(processed_file_path, index=False)"
      ],
      "metadata": {
        "colab": {
          "base_uri": "https://localhost:8080/"
        },
        "id": "TIK8bpxUegVZ",
        "outputId": "9f9a150e-7989-4913-b408-d18e1710fa37"
      },
      "execution_count": null,
      "outputs": [
        {
          "output_type": "stream",
          "name": "stdout",
          "text": [
            "                      direccion        ciudad\n",
            "0         Kirkman Road, Orlando        Orange\n",
            "1         Kirkman Road, Orlando        Orange\n",
            "2  North 17th Street, Ybor City  Hillsborough\n",
            "3         1727, East 7th Avenue  Hillsborough\n",
            "4              22, Country Road    Palm Beach\n"
          ]
        }
      ]
    },
    {
      "cell_type": "markdown",
      "source": [
        "Creamos la columna id nombre y id ciudad"
      ],
      "metadata": {
        "id": "V3NsLdN2giw3"
      }
    },
    {
      "cell_type": "code",
      "source": [
        "# Cargamos las rutas de los  archivos\n",
        "restaurants_file = '/content/Restaurant 2024.csv'\n",
        "names_file = '/content/nombres_restaurant.csv'\n",
        "cities_file = '/content/ciudades_dim.csv'\n",
        "\n",
        "# Cargamos los archivos\n",
        "try:\n",
        "    df_restaurants = pd.read_csv(restaurants_file)\n",
        "    df_names = pd.read_csv(names_file)\n",
        "    df_cities = pd.read_csv(cities_file)\n",
        "except FileNotFoundError as e:\n",
        "    print(f\"Error: {e}\")\n",
        "    raise\n",
        "\n",
        "# Creaamos IDs únicos para nombres de restaurantes\n",
        "unique_names = df_restaurants['nombre'].unique()\n",
        "existing_names = df_names['nombre'].tolist()\n",
        "\n",
        "# Verificamos y agregar nuevos nombres\n",
        "new_names = [name for name in unique_names if name not in existing_names]\n",
        "if new_names:\n",
        "    new_name_ids = [{'id_nombre': hashlib.md5(name.encode()).hexdigest()[:4], 'nombre': name} for name in new_names]\n",
        "    df_new_names = pd.DataFrame(new_name_ids)\n",
        "    df_names = pd.concat([df_names, df_new_names], ignore_index=True)\n",
        "    df_names.to_csv(names_file, index=False)\n",
        "\n",
        "# Mapeamos las id_nombres de nombres en df_restaurants\n",
        "name_to_id_map = pd.Series(df_names['id_nombre'].values, index=df_names['nombre']).to_dict()\n",
        "df_restaurants['id_nombre'] = df_restaurants['nombre'].map(name_to_id_map)\n",
        "\n",
        "# Creamos id  únicos para ciudades\n",
        "unique_cities = df_restaurants['ciudad'].unique()\n",
        "existing_cities = df_cities['ciudad'].tolist()\n",
        "\n",
        "# Verificamos y agregamos  nuevas ciudades\n",
        "new_cities = [city for city in unique_cities if city not in existing_cities]\n",
        "if new_cities:\n",
        "    new_city_ids = [{'id_ciudad': hashlib.md5(city.encode()).hexdigest()[:4], 'ciudad': city} for city in new_cities]\n",
        "    df_new_cities = pd.DataFrame(new_city_ids)\n",
        "    df_cities = pd.concat([df_cities, df_new_cities], ignore_index=True)\n",
        "    df_cities.to_csv(cities_file, index=False)\n",
        "\n",
        "# Mapeamos id_ciudad de ciudades en df_restaurants\n",
        "city_to_id_map = pd.Series(df_cities['id_ciudad'].values, index=df_cities['ciudad']).to_dict()\n",
        "df_restaurants['id_ciudad'] = df_restaurants['ciudad'].map(city_to_id_map)\n",
        "\n",
        "# Reordenamos las columnas\n",
        "column_order = [\n",
        "    'id_nombre', 'nombre', 'direccion', 'id_ciudad', 'ciudad', 'estado', 'pais',\n",
        "    'codigo_postal', 'longitud', 'latitud'\n",
        "]\n",
        "\n",
        "# Verificamos y reordenamos las columnas existentes\n",
        "existing_columns = [col for col in column_order if col in df_restaurants.columns]\n",
        "df_restaurants = df_restaurants[existing_columns]\n",
        "\n",
        "# Guardamos el resultado\n",
        "output_file = '/content/restaurant_2024.csv'\n",
        "df_restaurants.to_csv(output_file, index=False)\n",
        "\n",
        "print(f\"Archivo procesado y guardado en: {output_file}\")\n"
      ],
      "metadata": {
        "colab": {
          "base_uri": "https://localhost:8080/"
        },
        "id": "bBBWdV4rI3wz",
        "outputId": "190b7576-90a0-417d-f1a8-56a35cbe471f"
      },
      "execution_count": null,
      "outputs": [
        {
          "output_type": "stream",
          "name": "stdout",
          "text": [
            "Archivo procesado y guardado en: /content/restaurant_2024.csv\n"
          ]
        }
      ]
    },
    {
      "cell_type": "code",
      "source": [
        "import pandas as pd\n",
        "\n",
        "# Ruta del archivo\n",
        "file_path = '/content/restaurant_2024.csv'\n",
        "\n",
        "# Cargar el archivo\n",
        "try:\n",
        "    df = pd.read_csv(file_path)\n",
        "except FileNotFoundError as e:\n",
        "    print(f\"Error: {e}\")\n",
        "    raise\n",
        "\n",
        "# Eliminar la columna 'pais'\n",
        "if 'pais' in df.columns:\n",
        "    df = df.drop(columns=['pais'])\n",
        "    print(\"Columna 'pais' eliminada correctamente.\")\n",
        "else:\n",
        "    print(\"La columna 'pais' no existe en el archivo.\")\n",
        "\n",
        "# Guardar el archivo procesado\n",
        "output_path = '/content/restaurant_2024.csv'\n",
        "df.to_csv(output_path, index=False)\n",
        "\n",
        "print(f\"Archivo procesado y guardado en: {output_path}\")\n"
      ],
      "metadata": {
        "colab": {
          "base_uri": "https://localhost:8080/"
        },
        "id": "4-BkTOsnODiN",
        "outputId": "11223849-abd6-4f24-fbc4-e3aad9c7710d"
      },
      "execution_count": null,
      "outputs": [
        {
          "output_type": "stream",
          "name": "stdout",
          "text": [
            "Columna 'pais' eliminada correctamente.\n",
            "Archivo procesado y guardado en: /content/restaurant_2024.csv\n"
          ]
        }
      ]
    },
    {
      "cell_type": "markdown",
      "source": [
        "Restaurant 2023"
      ],
      "metadata": {
        "id": "zbzbrC21fazX"
      }
    },
    {
      "cell_type": "code",
      "source": [
        "# 1. Cargamos los datos\n",
        "file_path = r'/content/Restaurant 2023.csv'\n",
        "data = pd.read_csv(file_path, delimiter='\\t')\n",
        "\n",
        "# 2. Realizamos una revisión general\n",
        "print(\"Dimensiones del dataset:\", data.shape)\n",
        "print(\"\\nNombres de las columnas:\", data.columns.tolist())\n",
        "print(\"\\nPrimeras filas del dataset:\")\n",
        "print(data.head())\n",
        "\n",
        "# 3. Mostramos la calidad de los datos\n",
        "print(\"\\nValores nulos por columna:\")\n",
        "print(data.isnull().sum())\n",
        "\n",
        "print(\"\\nTipos de datos:\")\n",
        "print(data.dtypes)\n",
        "\n",
        "# 4. Realisaos una estadísticas descriptivas\n",
        "print(\"\\nEstadísticas descriptivas para columnas numéricas:\")\n",
        "print(data.describe())\n",
        "\n",
        "print(\"\\nValores únicos por columna:\")\n",
        "print(data.nunique())\n"
      ],
      "metadata": {
        "colab": {
          "base_uri": "https://localhost:8080/"
        },
        "id": "rWkLJc1P2pBx",
        "outputId": "68c38df6-cf3c-47eb-f4e1-d81cb2e26c13"
      },
      "execution_count": null,
      "outputs": [
        {
          "output_type": "stream",
          "name": "stdout",
          "text": [
            "Dimensiones del dataset: (4487, 11)\n",
            "\n",
            "Nombres de las columnas: ['name', 'addr:street', 'addr:city', 'addr:state', 'addr:postcode', 'smoking', 'wheelchair', 'cuisine', 'reviews', '@lat', '@lon']\n",
            "\n",
            "Primeras filas del dataset:\n",
            "                          name      addr:street addr:city addr:state  \\\n",
            "0                 Ruby Tuesday              NaN       NaN        NaN   \n",
            "1                      Denny's              NaN       NaN        NaN   \n",
            "2  El Puerto Argentinean Grill              NaN       NaN        NaN   \n",
            "3       La Terrazza Restaurant  East 7th Avenue     Tampa         FL   \n",
            "4  The Country Club of Florida              NaN       NaN        NaN   \n",
            "\n",
            "  addr:postcode smoking wheelchair   cuisine  reviews       @lat       @lon  \n",
            "0           NaN     NaN        yes  american      NaN  28.503323 -81.458029  \n",
            "1           NaN     NaN        NaN  american      NaN  28.502807 -81.458022  \n",
            "2           NaN     NaN        yes       NaN      NaN  27.958677 -82.440585  \n",
            "3         33605     NaN        yes       NaN      NaN  27.960129 -82.439679  \n",
            "4           NaN     NaN        NaN       NaN      NaN  26.504356 -80.103306  \n",
            "\n",
            "Valores nulos por columna:\n",
            "name               99\n",
            "addr:street      1844\n",
            "addr:city        2133\n",
            "addr:state       2315\n",
            "addr:postcode    2123\n",
            "smoking          4209\n",
            "wheelchair       4127\n",
            "cuisine           817\n",
            "reviews          4487\n",
            "@lat                0\n",
            "@lon                0\n",
            "dtype: int64\n",
            "\n",
            "Tipos de datos:\n",
            "name              object\n",
            "addr:street       object\n",
            "addr:city         object\n",
            "addr:state        object\n",
            "addr:postcode     object\n",
            "smoking           object\n",
            "wheelchair        object\n",
            "cuisine           object\n",
            "reviews          float64\n",
            "@lat             float64\n",
            "@lon             float64\n",
            "dtype: object\n",
            "\n",
            "Estadísticas descriptivas para columnas numéricas:\n",
            "       reviews         @lat         @lon\n",
            "count      0.0  4487.000000  4487.000000\n",
            "mean       NaN    27.999430   -81.930338\n",
            "std        NaN     1.805545     1.675316\n",
            "min        NaN   -34.291318   -87.517430\n",
            "25%        NaN    26.642459   -82.505174\n",
            "50%        NaN    28.078291   -81.600491\n",
            "75%        NaN    28.911840   -80.685410\n",
            "max        NaN    30.966375   -56.393263\n",
            "\n",
            "Valores únicos por columna:\n",
            "name             2393\n",
            "addr:street      1276\n",
            "addr:city         295\n",
            "addr:state          3\n",
            "addr:postcode     556\n",
            "smoking             5\n",
            "wheelchair          4\n",
            "cuisine           370\n",
            "reviews             0\n",
            "@lat             4486\n",
            "@lon             4484\n",
            "dtype: int64\n"
          ]
        }
      ]
    },
    {
      "cell_type": "code",
      "source": [
        "#Cargamos la ruta del archivo original\n",
        "archivo = \"/content/Restaurant 2023.csv\"\n",
        "\n",
        "# Detectamos el número  de columnas\n",
        "with open(archivo, 'r') as f:\n",
        "    header = f.readline().strip()\n",
        "    expected_columns = len(header.split(','))\n",
        "\n",
        "correct_lines = []\n",
        "problem_lines = []\n",
        "\n",
        "with open(archivo, 'r') as f:\n",
        "    lines = f.readlines()\n",
        "\n",
        "for i, line in enumerate(lines):\n",
        "    if len(line.strip().split(',')) == expected_columns:\n",
        "        correct_lines.append(line)\n",
        "    else:\n",
        "        problem_lines.append((i + 1, line))\n",
        "\n",
        "# Guardamos archivo limpio\n",
        "archivo_limpio = \"/content/Restaurant_2023_cleaned.csv\"\n",
        "with open(archivo_limpio, 'w') as f:\n",
        "    f.writelines(correct_lines)\n",
        "\n",
        "print(f\"Archivo limpio guardado en: {archivo_limpio}\")\n",
        "if problem_lines:\n",
        "    print(f\"Se encontraron {len(problem_lines)} líneas problemáticas:\")\n",
        "    for line_info in problem_lines[:5]:\n",
        "        print(f\"Línea {line_info[0]}: {line_info[1]}\")\n",
        "\n",
        "try:\n",
        "    data = pd.read_csv(archivo_limpio)\n",
        "\n",
        "    # Renombramos columnas\n",
        "    data.rename(columns={\n",
        "        'addr:street': 'direccion',\n",
        "        'amenity': 'tipo',\n",
        "        '@lat': 'latitud',\n",
        "        '@lon': 'longitud'\n",
        "    }, inplace=True)\n",
        "\n",
        "    print(\"Archivo cargado exitosamente. Primeras filas:\")\n",
        "    print(data.head())\n",
        "\n",
        "except Exception as e:\n",
        "    print(f\"Error al cargar el archivo limpio: {e}\")\n"
      ],
      "metadata": {
        "colab": {
          "base_uri": "https://localhost:8080/"
        },
        "id": "Tg5bghxu_IDB",
        "outputId": "3c17e006-bef1-4725-a00e-a66efc8ef96d"
      },
      "execution_count": null,
      "outputs": [
        {
          "output_type": "stream",
          "name": "stdout",
          "text": [
            "Archivo limpio guardado en: /content/Restaurant_2023_cleaned.csv\n",
            "Se encontraron 16 líneas problemáticas:\n",
            "Línea 618: Komoon Thai Sushi Ceviche\t\"Bonita Beach Rd, Suite 101\"\t\t\t34134\t\t\tthai\t\t26.3310766\t-81.8104886\n",
            "\n",
            "Línea 1037: \"Ronnie's Wings, Oysters and More\"\tWalnut Street\tGreen Cove Springs\tFL\t32043\t\t\twings;oyster;seafood\t\t29.9939195\t-81.6782346\n",
            "\n",
            "Línea 1338: \"The Corner Cafe, Home of Gourmet2Go\"\tW 1st Street\tSanford\tFL\t32771\t\t\tsandwich\t\t28.8115870\t-81.2682113\n",
            "\n",
            "Línea 1419: Shindig Irish Restaurant & Pub\t\"464 SW Port St Lucie Blvd, Suite 115\"\tPort Saint Lucie\tFL\t34953\t\t\tirish;american\t\t27.2716911\t-80.3593372\n",
            "\n",
            "Línea 1420: Altavilla Pizza & Trattoria\t\"7550 Mission Hills Dr, #318\"\tNaples\tFL\t34119\t\t\tpizza;italian;sandwich\t\t26.2469744\t-81.6902155\n",
            "\n",
            "Archivo cargado exitosamente. Primeras filas:\n",
            "  name\\taddr:street\\taddr:city\\taddr:state\\taddr:postcode\\tsmoking\\twheelchair\\tcuisine\\treviews\\t@lat\\t@lon\n",
            "0  Ruby Tuesday\\t\\t\\t\\t\\t\\tyes\\tamerican\\t\\t28.50...                                                        \n",
            "1  Denny's\\t\\t\\t\\t\\t\\t\\tamerican\\t\\t28.5028071\\t-...                                                        \n",
            "2  El Puerto Argentinean Grill\\t\\t\\t\\t\\t\\tyes\\t\\t...                                                        \n",
            "3  La Terrazza Restaurant\\tEast 7th Avenue\\tTampa...                                                        \n",
            "4  The Country Club of Florida\\t\\t\\t\\t\\t\\t\\t\\t\\t2...                                                        \n"
          ]
        }
      ]
    },
    {
      "cell_type": "markdown",
      "source": [
        "Extraemos los datos faltantes en base a la latitud y longuitud"
      ],
      "metadata": {
        "id": "1_wqn0dpfgBX"
      }
    },
    {
      "cell_type": "code",
      "source": [
        "# Configuramos el geolocalizador con un user_agent único\n",
        "geolocator = Nominatim(user_agent=\"mi_proyecto_geocodificacion_v1\")\n",
        "\n",
        "# Función para realizar la geocodificación inversa y buscar el nombre del lugar\n",
        "def reverse_geocode(lat, lon):\n",
        "    try:\n",
        "        location = geolocator.reverse((lat, lon), timeout=10)\n",
        "        if location:\n",
        "            address = location.address\n",
        "            city = location.raw.get('address', {}).get('city', None)\n",
        "            name = location.raw.get('name', None) or location.raw.get('address', {}).get('attraction', None)\n",
        "            return address, city, name\n",
        "        else:\n",
        "            return \"Dirección no encontrada\", None, None\n",
        "    except GeocoderTimedOut:\n",
        "        return \"Tiempo de espera agotado\", None, None\n",
        "    except GeocoderInsufficientPrivileges:\n",
        "        return \"Bloqueado: Verificar API o User-Agent\", None, None\n",
        "\n",
        "# Limpieza inicial del archivo\n",
        "input_file = \"/content/Restaurant 2023.csv\"\n",
        "cleaned_file = \"/content/Restaurant 2023 limpio.csv\"\n",
        "\n",
        "with open(input_file, 'r', encoding='utf-8') as infile, open(cleaned_file, 'w', encoding='utf-8') as outfile:\n",
        "    for line in infile:\n",
        "        if line.strip():  # Omitir líneas vacías\n",
        "            outfile.write(line)\n",
        "\n",
        "# Cargar el archivo limpio\n",
        "try:\n",
        "    data = pd.read_csv(cleaned_file, sep='\\t', encoding='utf-8')\n",
        "except pd.errors.ParserError as e:\n",
        "    print(f\"Error al cargar el archivo: {e}\")\n",
        "    data = pd.read_csv(cleaned_file, sep=',', encoding='utf-8', on_bad_lines='skip')\n",
        "\n",
        "# Añadir la columna 'name' si no existe\n",
        "if 'name' not in data.columns:\n",
        "    data['name'] = None\n",
        "\n",
        "# Actualizar las columnas addr:street, addr:city y name\n",
        "def update_address(row):\n",
        "    if pd.notna(row['@lat']) and pd.notna(row['@lon']):\n",
        "        address, city, name = reverse_geocode(row['@lat'], row['@lon'])\n",
        "        row['addr:street'] = address\n",
        "        row['addr:city'] = city\n",
        "        row['name'] = name\n",
        "    return row\n",
        "\n",
        "# Aplicar la función fila por fila con pausas para respetar límites de solicitudes\n",
        "for index, row in data.iterrows():\n",
        "    data.loc[index] = update_address(row)\n",
        "    time.sleep(2)\n",
        "\n",
        "# Guardar los resultados\n",
        "output_file = \"/content/Restaurant 2023.csv\"\n",
        "data.to_csv(output_file, index=False)\n",
        "\n",
        "# Mostrar las primeras filas procesadas\n",
        "print(data.head())"
      ],
      "metadata": {
        "id": "dq7cN0lH26xH",
        "colab": {
          "base_uri": "https://localhost:8080/"
        },
        "outputId": "ea0c52cf-b754-4404-d93a-b870c33f2f2c"
      },
      "execution_count": null,
      "outputs": [
        {
          "output_type": "stream",
          "name": "stdout",
          "text": [
            "                          name  \\\n",
            "0                 Ruby Tuesday   \n",
            "1                      Denny's   \n",
            "2  El Puerto Argentinean Grill   \n",
            "3       La Terrazza Restaurant   \n",
            "4  The Country Club of Florida   \n",
            "\n",
            "                                         addr:street addr:city addr:state  \\\n",
            "0  Ruby Tuesday, Kirkman Road, Orlando, Orange Co...   Orlando        NaN   \n",
            "1  Denny's, Kirkman Road, Orlando, Orange County,...   Orlando        NaN   \n",
            "2  El Puerto Argentinean Grill, North 17th Street...     Tampa        NaN   \n",
            "3  La Terrazza Restaurant, 1727, East 7th Avenue,...     Tampa         FL   \n",
            "4  The Country Club of Florida, 22, Country Road,...      None        NaN   \n",
            "\n",
            "  addr:postcode smoking wheelchair   cuisine  reviews       @lat       @lon  \n",
            "0           NaN     NaN        yes  american      NaN  28.503323 -81.458029  \n",
            "1           NaN     NaN        NaN  american      NaN  28.502807 -81.458022  \n",
            "2           NaN     NaN        yes       NaN      NaN  27.958677 -82.440585  \n",
            "3         33605     NaN        yes       NaN      NaN  27.960129 -82.439679  \n",
            "4           NaN     NaN        NaN       NaN      NaN  26.504356 -80.103306  \n"
          ]
        }
      ]
    },
    {
      "cell_type": "markdown",
      "source": [
        "Extraemos los datos de la columna direccion"
      ],
      "metadata": {
        "id": "sYg_wIOsf4rj"
      }
    },
    {
      "cell_type": "code",
      "source": [
        "# Cargamos  los datos\n",
        "archivo = \"/content/Restaurant 2023.csv\"\n",
        "data = pd.read_csv(archivo)\n",
        "\n",
        "# Renombramos  las columnas\n",
        "data.rename(columns={\n",
        "    'addr:street': 'direccion',\n",
        "    'amenity': 'tipo',\n",
        "    '@lat': 'latitud',\n",
        "    '@lon': 'longitud'\n",
        "}, inplace=True)\n",
        "\n",
        "# Dividimos la columna direccion para extraer los datos\n",
        "direccion_split = data['direccion'].fillna('').str.split(',', expand=True)\n",
        "\n",
        "# Creamos las nuebas colunas a usar\n",
        "data['nombre'] = direccion_split[0].str.strip()\n",
        "\n",
        "# Extraemos la direccion combinando todas las partes de la dirección hasta el estado\n",
        "data['direccion'] = direccion_split.apply(\n",
        "    lambda row: ', '.join(filter(None, [row[1].strip(), row[2].strip()])), axis=1\n",
        ")\n",
        "\n",
        "# Extraemos la ciudad siempre y cuando tenga la palabra County\n",
        "data['ciudad'] = direccion_split.apply(\n",
        "    lambda row: next((x.strip() for x in row if 'County' in str(x)), 'No definido'), axis=1\n",
        ")\n",
        "\n",
        "# Extraemos el estado  \"Florida\"\n",
        "data['estado'] = direccion_split.apply(lambda row: 'Florida', axis=1)\n",
        "\n",
        "# Extraemos  y validamos los códigos postales\n",
        "data['codigo_postal'] = direccion_split.apply(\n",
        "    lambda row: next((re.search(r'\\b\\d{5}\\b', str(x)).group(0) for x in row if re.search(r'\\b\\d{5}\\b', str(x))), 'No definido'), axis=1\n",
        ")\n",
        "\n",
        "# Separamos el peis \"United States\"\n",
        "data['pais'] = direccion_split.apply(lambda row: 'United States', axis=1)\n",
        "\n",
        "# Reordenamos las columnas\n",
        "data = data[['nombre', 'direccion', 'ciudad', 'estado', 'pais', 'codigo_postal', 'longitud', 'latitud']]\n",
        "\n",
        "# Eliminamos  duplicados\n",
        "data.drop_duplicates(inplace=True)\n",
        "\n",
        "# Guardamos el resultado\n",
        "processed_file_path = '/content/Restaurant 2023.csv'\n",
        "data.to_csv(processed_file_path, index=False)\n",
        "\n",
        "# Análisamos de datos vacíos y duplicados\n",
        "vacios = data.isnull().sum()\n",
        "duplicados = data.duplicated().sum()\n",
        "\n",
        "print(\"Análisis de datos:\")\n",
        "print(\"Valores vacíos por columna:\")\n",
        "print(vacios)\n",
        "print(f\"Número de filas duplicadas: {duplicados}\")\n",
        "print(data.head())\n"
      ],
      "metadata": {
        "colab": {
          "base_uri": "https://localhost:8080/"
        },
        "id": "XUytg8DQfyH2",
        "outputId": "e8523ba6-7250-49c4-a648-6fd5be9a603b"
      },
      "execution_count": null,
      "outputs": [
        {
          "output_type": "stream",
          "name": "stdout",
          "text": [
            "Análisis de datos:\n",
            "Valores vacíos por columna:\n",
            "nombre           0\n",
            "direccion        0\n",
            "ciudad           0\n",
            "estado           0\n",
            "pais             0\n",
            "codigo_postal    0\n",
            "longitud         0\n",
            "latitud          0\n",
            "dtype: int64\n",
            "Número de filas duplicadas: 0\n",
            "                        nombre                     direccion  \\\n",
            "0                 Ruby Tuesday         Kirkman Road, Orlando   \n",
            "1                      Denny's         Kirkman Road, Orlando   \n",
            "2  El Puerto Argentinean Grill  North 17th Street, Ybor City   \n",
            "3       La Terrazza Restaurant         1727, East 7th Avenue   \n",
            "4  The Country Club of Florida              22, Country Road   \n",
            "\n",
            "                ciudad   estado           pais codigo_postal   longitud  \\\n",
            "0        Orange County  Florida  United States         32811 -81.458029   \n",
            "1        Orange County  Florida  United States         32811 -81.458022   \n",
            "2  Hillsborough County  Florida  United States         33605 -82.440585   \n",
            "3  Hillsborough County  Florida  United States         33605 -82.439679   \n",
            "4    Palm Beach County  Florida  United States         33436 -80.103306   \n",
            "\n",
            "     latitud  \n",
            "0  28.503323  \n",
            "1  28.502807  \n",
            "2  27.958677  \n",
            "3  27.960129  \n",
            "4  26.504356  \n"
          ]
        },
        {
          "output_type": "stream",
          "name": "stderr",
          "text": [
            "<ipython-input-6-8cfcda072972>:44: SettingWithCopyWarning: \n",
            "A value is trying to be set on a copy of a slice from a DataFrame\n",
            "\n",
            "See the caveats in the documentation: https://pandas.pydata.org/pandas-docs/stable/user_guide/indexing.html#returning-a-view-versus-a-copy\n",
            "  data.drop_duplicates(inplace=True)\n"
          ]
        }
      ]
    },
    {
      "cell_type": "markdown",
      "source": [
        "Eliminamos la palabra County"
      ],
      "metadata": {
        "id": "h0JRJvLnqsSC"
      }
    },
    {
      "cell_type": "code",
      "source": [
        "# Eliminamos la palabra 'County' de las columnas 'direccion' y 'ciudad'\n",
        "data['direccion'] = data['direccion'].str.replace(r'\\bCounty\\b', '', regex=True).str.strip()\n",
        "data['ciudad'] = data['ciudad'].str.replace(r'\\bCounty\\b', '', regex=True).str.strip()\n",
        "print(data[['direccion', 'ciudad']].head())\n",
        "\n",
        "# Guardamos el resultado\n",
        "processed_file_path = '/content/Restaurant 2023.csv'\n",
        "data.to_csv(processed_file_path, index=False)"
      ],
      "metadata": {
        "colab": {
          "base_uri": "https://localhost:8080/"
        },
        "id": "iLH6S15Jq17I",
        "outputId": "cda828c5-96a6-4522-d162-1865fd913637"
      },
      "execution_count": null,
      "outputs": [
        {
          "output_type": "stream",
          "name": "stdout",
          "text": [
            "                      direccion        ciudad\n",
            "0         Kirkman Road, Orlando        Orange\n",
            "1         Kirkman Road, Orlando        Orange\n",
            "2  North 17th Street, Ybor City  Hillsborough\n",
            "3         1727, East 7th Avenue  Hillsborough\n",
            "4              22, Country Road    Palm Beach\n"
          ]
        }
      ]
    },
    {
      "cell_type": "markdown",
      "source": [],
      "metadata": {
        "id": "FpgSqLrgcTUu"
      }
    },
    {
      "cell_type": "code",
      "source": [
        "# Cargamos las rutas de los  archivos\n",
        "restaurants_file = '/content/Restaurant 2023.csv'\n",
        "names_file = '/content/nombres_restaurant.csv'\n",
        "cities_file = '/content/ciudades_dim.csv'\n",
        "\n",
        "# Cargamos los archivos\n",
        "try:\n",
        "    df_restaurants = pd.read_csv(restaurants_file)\n",
        "    df_names = pd.read_csv(names_file)\n",
        "    df_cities = pd.read_csv(cities_file)\n",
        "except FileNotFoundError as e:\n",
        "    print(f\"Error: {e}\")\n",
        "    raise\n",
        "\n",
        "# Creaamos IDs únicos para nombres de restaurantes\n",
        "unique_names = df_restaurants['nombre'].unique()\n",
        "existing_names = df_names['nombre'].tolist()\n",
        "\n",
        "# Verificamos y agregar nuevos nombres\n",
        "new_names = [name for name in unique_names if name not in existing_names]\n",
        "if new_names:\n",
        "    new_name_ids = [{'id_nombre': hashlib.md5(name.encode()).hexdigest()[:4], 'nombre': name} for name in new_names]\n",
        "    df_new_names = pd.DataFrame(new_name_ids)\n",
        "    df_names = pd.concat([df_names, df_new_names], ignore_index=True)\n",
        "    df_names.to_csv(names_file, index=False)\n",
        "\n",
        "# Mapeamos las id_nombres de nombres en df_restaurants\n",
        "name_to_id_map = pd.Series(df_names['id_nombre'].values, index=df_names['nombre']).to_dict()\n",
        "df_restaurants['id_nombre'] = df_restaurants['nombre'].map(name_to_id_map)\n",
        "\n",
        "# Creamos id  únicos para ciudades\n",
        "unique_cities = df_restaurants['ciudad'].unique()\n",
        "existing_cities = df_cities['ciudad'].tolist()\n",
        "\n",
        "# Verificamos y agregamos  nuevas ciudades\n",
        "new_cities = [city for city in unique_cities if city not in existing_cities]\n",
        "if new_cities:\n",
        "    new_city_ids = [{'id_ciudad': hashlib.md5(city.encode()).hexdigest()[:4], 'ciudad': city} for city in new_cities]\n",
        "    df_new_cities = pd.DataFrame(new_city_ids)\n",
        "    df_cities = pd.concat([df_cities, df_new_cities], ignore_index=True)\n",
        "    df_cities.to_csv(cities_file, index=False)\n",
        "\n",
        "# Mapeamos id_ciudad de ciudades en df_restaurants\n",
        "city_to_id_map = pd.Series(df_cities['id_ciudad'].values, index=df_cities['ciudad']).to_dict()\n",
        "df_restaurants['id_ciudad'] = df_restaurants['ciudad'].map(city_to_id_map)\n",
        "\n",
        "# Reordenamos las columnas\n",
        "column_order = [\n",
        "    'id_nombre', 'nombre', 'direccion', 'id_ciudad', 'ciudad', 'estado', 'pais',\n",
        "    'codigo_postal', 'longitud', 'latitud'\n",
        "]\n",
        "\n",
        "# Verificamos y reordenamos las columnas existentes\n",
        "existing_columns = [col for col in column_order if col in df_restaurants.columns]\n",
        "df_restaurants = df_restaurants[existing_columns]\n",
        "\n",
        "# Guardamos el resultado\n",
        "output_file = '/content/restaurant_2023.csv'\n",
        "df_restaurants.to_csv(output_file, index=False)\n",
        "\n",
        "print(f\"Archivo procesado y guardado en: {output_file}\")\n"
      ],
      "metadata": {
        "colab": {
          "base_uri": "https://localhost:8080/"
        },
        "outputId": "f1e370d4-b8ff-48c0-d9f2-431d324153c2",
        "id": "mZpnZooahc-i"
      },
      "execution_count": null,
      "outputs": [
        {
          "output_type": "stream",
          "name": "stdout",
          "text": [
            "Archivo procesado y guardado en: /content/restaurant_2023.csv\n"
          ]
        }
      ]
    },
    {
      "cell_type": "markdown",
      "source": [
        "Convertimos a formato parquet"
      ],
      "metadata": {
        "id": "HYMkz6rEhq6s"
      }
    },
    {
      "cell_type": "code",
      "source": [
        "# Cargamos la ruta del archivo\n",
        "file_path = '/content/restaurant_2023.csv'\n",
        "\n",
        "# Cargamos el archivo\n",
        "try:\n",
        "    df = pd.read_csv(file_path)\n",
        "except FileNotFoundError as e:\n",
        "    print(f\"Error: {e}\")\n",
        "    raise\n",
        "\n",
        "# Guardamos  el archivo en formato Parquet\n",
        "output_path = '/content/restaurant_2023.parquet'\n",
        "df.to_parquet(output_path, index=False)\n",
        "\n",
        "print(f\"Archivo convertido y guardado en formato Parquet en: {output_path}\")\n"
      ],
      "metadata": {
        "colab": {
          "base_uri": "https://localhost:8080/"
        },
        "id": "n7qwANfGhoD6",
        "outputId": "60c544a5-03f7-4f39-8b2f-388c1e38f42a"
      },
      "execution_count": null,
      "outputs": [
        {
          "output_type": "stream",
          "name": "stdout",
          "text": [
            "Archivo convertido y guardado en formato Parquet en: /content/restaurant_2023.parquet\n"
          ]
        }
      ]
    },
    {
      "cell_type": "markdown",
      "source": [
        "Restaurant 2022"
      ],
      "metadata": {
        "id": "9UfcyE0NcTP7"
      }
    },
    {
      "cell_type": "code",
      "execution_count": null,
      "metadata": {
        "colab": {
          "base_uri": "https://localhost:8080/"
        },
        "outputId": "7cc81cc6-a2db-4908-bda6-8d136b72f622",
        "id": "toqAiJhyvqLf"
      },
      "outputs": [
        {
          "output_type": "stream",
          "name": "stdout",
          "text": [
            "Dimensiones del dataset: (5489, 11)\n",
            "\n",
            "Nombres de las columnas: ['name', 'addr:street', 'addr:city', 'addr:state', 'addr:postcode', 'smoking', 'wheelchair', 'cuisine', 'reviews', '@lat', '@lon']\n",
            "\n",
            "Primeras filas del dataset:\n",
            "                          name      addr:street addr:city addr:state  \\\n",
            "0                   Wing House     Kirkman Road   Orlando        NaN   \n",
            "1                 Ruby Tuesday              NaN       NaN        NaN   \n",
            "2                      Denny's              NaN       NaN        NaN   \n",
            "3  El Puerto Argentinean Grill              NaN       NaN        NaN   \n",
            "4       La Terrazza Restaurant  East 7th Avenue     Tampa         FL   \n",
            "\n",
            "  addr:postcode smoking wheelchair   cuisine  reviews       @lat       @lon  \n",
            "0         32811     NaN        yes       NaN      NaN  28.503706 -81.458043  \n",
            "1           NaN     NaN        yes  american      NaN  28.503323 -81.458029  \n",
            "2           NaN     NaN        NaN  american      NaN  28.502807 -81.458022  \n",
            "3           NaN     NaN        yes       NaN      NaN  27.958677 -82.440585  \n",
            "4         33605     NaN        yes       NaN      NaN  27.960129 -82.439679  \n",
            "\n",
            "Valores nulos por columna:\n",
            "name              152\n",
            "addr:street      2286\n",
            "addr:city        2640\n",
            "addr:state       2917\n",
            "addr:postcode    2638\n",
            "smoking          5156\n",
            "wheelchair       5046\n",
            "cuisine          1166\n",
            "reviews          5489\n",
            "@lat                0\n",
            "@lon                0\n",
            "dtype: int64\n",
            "\n",
            "Tipos de datos:\n",
            "name              object\n",
            "addr:street       object\n",
            "addr:city         object\n",
            "addr:state        object\n",
            "addr:postcode     object\n",
            "smoking           object\n",
            "wheelchair        object\n",
            "cuisine           object\n",
            "reviews          float64\n",
            "@lat             float64\n",
            "@lon             float64\n",
            "dtype: object\n",
            "\n",
            "Estadísticas descriptivas para columnas numéricas:\n",
            "       reviews         @lat         @lon\n",
            "count      0.0  5489.000000  5489.000000\n",
            "mean       NaN    28.020134   -81.926949\n",
            "std        NaN     1.948584     1.693778\n",
            "min        NaN   -34.291318   -87.517430\n",
            "25%        NaN    26.652248   -82.503185\n",
            "50%        NaN    28.089832   -81.608326\n",
            "75%        NaN    29.131268   -80.716328\n",
            "max        NaN    30.966375   -55.132903\n",
            "\n",
            "Valores únicos por columna:\n",
            "name             3151\n",
            "addr:street      1470\n",
            "addr:city         323\n",
            "addr:state          3\n",
            "addr:postcode     594\n",
            "smoking             5\n",
            "wheelchair          4\n",
            "cuisine           427\n",
            "reviews             0\n",
            "@lat             5487\n",
            "@lon             5486\n",
            "dtype: int64\n"
          ]
        }
      ],
      "source": [
        "# 1. Cargamos los datos\n",
        "file_path = r'/content/Restaurant 2022.csv'\n",
        "data = pd.read_csv(file_path, delimiter='\\t')\n",
        "\n",
        "# 2. Realizamos una revisión general\n",
        "print(\"Dimensiones del dataset:\", data.shape)\n",
        "print(\"\\nNombres de las columnas:\", data.columns.tolist())\n",
        "print(\"\\nPrimeras filas del dataset:\")\n",
        "print(data.head())\n",
        "\n",
        "# 3. Mostramos la calidad de los datos\n",
        "print(\"\\nValores nulos por columna:\")\n",
        "print(data.isnull().sum())\n",
        "\n",
        "print(\"\\nTipos de datos:\")\n",
        "print(data.dtypes)\n",
        "\n",
        "# 4. Realisaos una estadísticas descriptivas\n",
        "print(\"\\nEstadísticas descriptivas para columnas numéricas:\")\n",
        "print(data.describe())\n",
        "\n",
        "print(\"\\nValores únicos por columna:\")\n",
        "print(data.nunique())\n"
      ]
    },
    {
      "cell_type": "markdown",
      "source": [
        "Descargamos los archivos faltantes en bace ala latitud y longitud"
      ],
      "metadata": {
        "id": "DdjnlUPZrh7o"
      }
    },
    {
      "cell_type": "code",
      "source": [
        "# Configuramos el geolocalizador con un user_agent único\n",
        "geolocator = Nominatim(user_agent=\"mi_proyecto_geocodificacion_v1\")\n",
        "\n",
        "# Función para realizar la geocodificación inversa\n",
        "def reverse_geocode(lat, lon):\n",
        "    try:\n",
        "        location = geolocator.reverse((lat, lon), timeout=10)\n",
        "        if location:\n",
        "            # Extraemos  dirección completa y ciudad\n",
        "            address = location.address\n",
        "            city = location.raw.get('address', {}).get('city', None)\n",
        "            return address, city\n",
        "        else:\n",
        "            return \"Dirección no encontrada\", None\n",
        "    except GeocoderTimedOut:\n",
        "        return \"Tiempo de espera agotado\", None\n",
        "    except GeocoderInsufficientPrivileges:\n",
        "        return \"Bloqueado: Verificar API o User-Agent\", None\n",
        "\n",
        "# Actualizamos las columnas addr:street y addr:city\n",
        "def update_address(row):\n",
        "    if pd.notna(row['@lat']) and pd.notna(row['@lon']):\n",
        "        address, city = reverse_geocode(row['@lat'], row['@lon'])\n",
        "        row['addr:street'] = address  # Guardar dirección completa\n",
        "        row['addr:city'] = city       # Actualizar ciudad\n",
        "    return row\n",
        "\n",
        "# Aplicamos una pausa de 2 segundos fila por fila con retraso para respetar los límites de solisitudes\n",
        "for index, row in data.iterrows():\n",
        "    data.loc[index] = update_address(row)\n",
        "    time.sleep(2)\n",
        "\n",
        "# Guardamos los resultados en un nuevo archivo CSV\n",
        "data.to_csv(\"/content/Restaurant 2022.csv\", index=False)\n",
        "\n",
        "# Mostramos las primeras filas actualizadas\n",
        "print(data[['@lat', '@lon', 'addr:street', 'addr:city']].head())"
      ],
      "metadata": {
        "colab": {
          "base_uri": "https://localhost:8080/"
        },
        "outputId": "db2ed310-2e75-4256-949c-ef9a29bf94f7",
        "id": "jPkSV92Vv__f"
      },
      "execution_count": null,
      "outputs": [
        {
          "output_type": "stream",
          "name": "stdout",
          "text": [
            "        @lat       @lon                                        addr:street  \\\n",
            "0  28.503706 -81.458043  Wing House, 3789, Kirkman Road, Orlando, Orang...   \n",
            "1  28.503323 -81.458029  Ruby Tuesday, Kirkman Road, Orlando, Orange Co...   \n",
            "2  28.502807 -81.458022  Denny's, Kirkman Road, Orlando, Orange County,...   \n",
            "3  27.958677 -82.440585  El Puerto Argentinean Grill, North 17th Street...   \n",
            "4  27.960129 -82.439679  La Terrazza Restaurant, 1727, East 7th Avenue,...   \n",
            "\n",
            "  addr:city  \n",
            "0   Orlando  \n",
            "1   Orlando  \n",
            "2   Orlando  \n",
            "3     Tampa  \n",
            "4     Tampa  \n"
          ]
        }
      ]
    },
    {
      "cell_type": "markdown",
      "source": [
        "Extraemos la informacion de la columna direcciones"
      ],
      "metadata": {
        "id": "shxVv8LDrwSG"
      }
    },
    {
      "cell_type": "code",
      "source": [
        "# Cargamos  los datos\n",
        "archivo = \"/content/Restaurant 2022.csv\"\n",
        "data = pd.read_csv(archivo)\n",
        "\n",
        "# Renombramos  las columnas\n",
        "data.rename(columns={\n",
        "    'addr:street': 'direccion',\n",
        "    'amenity': 'tipo',\n",
        "    '@lat': 'latitud',\n",
        "    '@lon': 'longitud'\n",
        "}, inplace=True)\n",
        "\n",
        "# Dividimos la columna direccion para extraer los datos\n",
        "direccion_split = data['direccion'].fillna('').str.split(',', expand=True)\n",
        "\n",
        "# Creamos las nuebas colunas a usar\n",
        "data['nombre'] = direccion_split[0].str.strip()\n",
        "\n",
        "# Extraemos la direccion combinando todas las partes de la dirección hasta el estado\n",
        "data['direccion'] = direccion_split.apply(\n",
        "    lambda row: ', '.join(filter(None, [row[1].strip(), row[2].strip()])), axis=1\n",
        ")\n",
        "\n",
        "# Extraemos la ciudad siempre y cuando tenga la palabra County\n",
        "data['ciudad'] = direccion_split.apply(\n",
        "    lambda row: next((x.strip() for x in row if 'County' in str(x)), 'No definido'), axis=1\n",
        ")\n",
        "\n",
        "# Extraemos el estado  \"Florida\"\n",
        "data['estado'] = direccion_split.apply(lambda row: 'Florida', axis=1)\n",
        "\n",
        "# Extraemos  y validamos los códigos postales\n",
        "data['codigo_postal'] = direccion_split.apply(\n",
        "    lambda row: next((re.search(r'\\b\\d{5}\\b', str(x)).group(0) for x in row if re.search(r'\\b\\d{5}\\b', str(x))), 'No definido'), axis=1\n",
        ")\n",
        "\n",
        "# Separamos el peis \"United States\"\n",
        "data['pais'] = direccion_split.apply(lambda row: 'United States', axis=1)\n",
        "\n",
        "# Reordenamos las columnas\n",
        "data = data[['nombre', 'direccion', 'ciudad', 'estado', 'pais', 'codigo_postal', 'longitud', 'latitud']]\n",
        "\n",
        "# Eliminamos  duplicados\n",
        "data.drop_duplicates(inplace=True)\n",
        "\n",
        "# Guardamos el resultado\n",
        "processed_file_path = '/content/Restaurant 2022.csv'\n",
        "data.to_csv(processed_file_path, index=False)\n",
        "\n",
        "# Análisamos de datos vacíos y duplicados\n",
        "vacios = data.isnull().sum()\n",
        "duplicados = data.duplicated().sum()\n",
        "\n",
        "print(\"Análisis de datos:\")\n",
        "print(\"Valores vacíos por columna:\")\n",
        "print(vacios)\n",
        "print(f\"Número de filas duplicadas: {duplicados}\")\n",
        "print(data.head())\n"
      ],
      "metadata": {
        "colab": {
          "base_uri": "https://localhost:8080/"
        },
        "id": "ybc-Pxo3mwAy",
        "outputId": "255bef55-97a2-4bdb-cc8e-44c5236eca11"
      },
      "execution_count": null,
      "outputs": [
        {
          "output_type": "stream",
          "name": "stdout",
          "text": [
            "Análisis de datos:\n",
            "Valores vacíos por columna:\n",
            "nombre           0\n",
            "direccion        0\n",
            "ciudad           0\n",
            "estado           0\n",
            "pais             0\n",
            "codigo_postal    0\n",
            "longitud         0\n",
            "latitud          0\n",
            "dtype: int64\n",
            "Número de filas duplicadas: 0\n",
            "                        nombre                     direccion  \\\n",
            "0                   Wing House            3789, Kirkman Road   \n",
            "1                 Ruby Tuesday         Kirkman Road, Orlando   \n",
            "2                      Denny's         Kirkman Road, Orlando   \n",
            "3  El Puerto Argentinean Grill  North 17th Street, Ybor City   \n",
            "4       La Terrazza Restaurant         1727, East 7th Avenue   \n",
            "\n",
            "                ciudad   estado           pais codigo_postal   longitud  \\\n",
            "0        Orange County  Florida  United States         32811 -81.458043   \n",
            "1        Orange County  Florida  United States         32811 -81.458029   \n",
            "2        Orange County  Florida  United States         32811 -81.458022   \n",
            "3  Hillsborough County  Florida  United States         33605 -82.440585   \n",
            "4  Hillsborough County  Florida  United States         33605 -82.439679   \n",
            "\n",
            "     latitud  \n",
            "0  28.503706  \n",
            "1  28.503323  \n",
            "2  28.502807  \n",
            "3  27.958677  \n",
            "4  27.960129  \n"
          ]
        },
        {
          "output_type": "stream",
          "name": "stderr",
          "text": [
            "<ipython-input-8-e160d0cc461c>:44: SettingWithCopyWarning: \n",
            "A value is trying to be set on a copy of a slice from a DataFrame\n",
            "\n",
            "See the caveats in the documentation: https://pandas.pydata.org/pandas-docs/stable/user_guide/indexing.html#returning-a-view-versus-a-copy\n",
            "  data.drop_duplicates(inplace=True)\n"
          ]
        }
      ]
    },
    {
      "cell_type": "markdown",
      "source": [
        "Eliminamos la palabra County"
      ],
      "metadata": {
        "id": "D7OQ1GsTsFWP"
      }
    },
    {
      "cell_type": "code",
      "source": [
        "# Eliminamos la palabra 'County' de las columnas 'direccion' y 'ciudad'\n",
        "data['direccion'] = data['direccion'].str.replace(r'\\bCounty\\b', '', regex=True).str.strip()\n",
        "data['ciudad'] = data['ciudad'].str.replace(r'\\bCounty\\b', '', regex=True).str.strip()\n",
        "print(data[['direccion', 'ciudad']].head())\n",
        "\n",
        "# Guardamos el resultado\n",
        "processed_file_path = '/content/Restaurant 2022.csv'\n",
        "data.to_csv(processed_file_path, index=False)"
      ],
      "metadata": {
        "colab": {
          "base_uri": "https://localhost:8080/"
        },
        "id": "5RqMXBDAsPs2",
        "outputId": "d0245556-07f8-4d1c-f699-7b2eae78e229"
      },
      "execution_count": null,
      "outputs": [
        {
          "output_type": "stream",
          "name": "stdout",
          "text": [
            "                      direccion        ciudad\n",
            "0            3789, Kirkman Road        Orange\n",
            "1         Kirkman Road, Orlando        Orange\n",
            "2         Kirkman Road, Orlando        Orange\n",
            "3  North 17th Street, Ybor City  Hillsborough\n",
            "4         1727, East 7th Avenue  Hillsborough\n"
          ]
        }
      ]
    },
    {
      "cell_type": "markdown",
      "source": [],
      "metadata": {
        "id": "Q_L2u9bSsk4-"
      }
    }
  ]
}