{
 "cells": [
  {
   "cell_type": "markdown",
   "metadata": {
    "application/vnd.databricks.v1+cell": {
     "cellMetadata": {},
     "inputWidgets": {},
     "nuid": "2a4eacac-3148-4c9c-91be-3f7ea77e4965",
     "showTitle": false,
     "tableResultSettingsMap": {},
     "title": ""
    }
   },
   "source": [
    "Verificamos si las tablas se cargaron en la ruta adecuada"
   ]
  },
  {
   "cell_type": "code",
   "execution_count": 0,
   "metadata": {
    "application/vnd.databricks.v1+cell": {
     "cellMetadata": {
      "byteLimit": 2048000,
      "rowLimit": 10000
     },
     "inputWidgets": {},
     "nuid": "4cc031ec-f417-497f-af20-20c07631c93f",
     "showTitle": false,
     "tableResultSettingsMap": {},
     "title": ""
    }
   },
   "outputs": [
    {
     "output_type": "execute_result",
     "data": {
      "text/plain": [
       "[FileInfo(path='dbfs:/Volumes/aprendisaje/default/servicios2/centros_educacion_dim.csv', name='centros_educacion_dim.csv', size=2198767, modificationTime=1737328437000),\n",
       " FileInfo(path='dbfs:/Volumes/aprendisaje/default/servicios2/centros_entretenimiento_dim.csv', name='centros_entretenimiento_dim.csv', size=93185, modificationTime=1737328434000),\n",
       " FileInfo(path='dbfs:/Volumes/aprendisaje/default/servicios2/centros_hosteleria_dim.csv', name='centros_hosteleria_dim.csv', size=29241, modificationTime=1737328434000),\n",
       " FileInfo(path='dbfs:/Volumes/aprendisaje/default/servicios2/ciudades_dim.csv', name='ciudades_dim.csv', size=115967, modificationTime=1737328434000),\n",
       " FileInfo(path='dbfs:/Volumes/aprendisaje/default/servicios2/servicio_restaurantes.csv', name='servicio_restaurantes.csv', size=16322217, modificationTime=1737328506000),\n",
       " FileInfo(path='dbfs:/Volumes/aprendisaje/default/servicios2/servicio_tiendas_negocio_dim.csv', name='servicio_tiendas_negocio_dim.csv', size=7759, modificationTime=1737328435000),\n",
       " FileInfo(path='dbfs:/Volumes/aprendisaje/default/servicios2/servicio_tiendas_negocios.csv', name='servicio_tiendas_negocios.csv', size=2437241, modificationTime=1737328445000),\n",
       " FileInfo(path='dbfs:/Volumes/aprendisaje/default/servicios2/servicio_transporte.csv', name='servicio_transporte.csv', size=422175, modificationTime=1737328436000),\n",
       " FileInfo(path='dbfs:/Volumes/aprendisaje/default/servicios2/servicio_transporte_dim.csv', name='servicio_transporte_dim.csv', size=3075, modificationTime=1737328435000),\n",
       " FileInfo(path='dbfs:/Volumes/aprendisaje/default/servicios2/servicios_educacion.csv', name='servicios_educacion.csv', size=10486790, modificationTime=1737328491000),\n",
       " FileInfo(path='dbfs:/Volumes/aprendisaje/default/servicios2/servicios_entretenimiento.csv', name='servicios_entretenimiento.csv', size=1143693, modificationTime=1737328445000),\n",
       " FileInfo(path='dbfs:/Volumes/aprendisaje/default/servicios2/servicios_hospedaje.csv', name='servicios_hospedaje.csv', size=1458183, modificationTime=1737328446000),\n",
       " FileInfo(path='dbfs:/Volumes/aprendisaje/default/servicios2/servicios_restaurantes_dim.csv', name='servicios_restaurantes_dim.csv', size=380469, modificationTime=1737328435000)]"
      ]
     },
     "execution_count": 1,
     "metadata": {},
     "output_type": "execute_result"
    }
   ],
   "source": [
    "dbutils.fs.ls(\"/Volumes/aprendisaje/default/servicios2\")\n"
   ]
  },
  {
   "cell_type": "markdown",
   "metadata": {
    "application/vnd.databricks.v1+cell": {
     "cellMetadata": {},
     "inputWidgets": {},
     "nuid": "0becd9ea-7aaa-4e69-9253-aa95bcd2e60f",
     "showTitle": false,
     "tableResultSettingsMap": {},
     "title": ""
    }
   },
   "source": [
    "Usamos el catálogo aprendisaje"
   ]
  },
  {
   "cell_type": "code",
   "execution_count": 0,
   "metadata": {
    "application/vnd.databricks.v1+cell": {
     "cellMetadata": {
      "byteLimit": 2048000,
      "implicitDf": true,
      "rowLimit": 10000
     },
     "inputWidgets": {},
     "nuid": "54ce3cf7-1bc0-4de1-88a9-b675dd0d9cd3",
     "showTitle": false,
     "tableResultSettingsMap": {},
     "title": ""
    }
   },
   "outputs": [
    {
     "output_type": "display_data",
     "data": {
      "text/html": [
       "<style scoped>\n",
       "  .table-result-container {\n",
       "    max-height: 300px;\n",
       "    overflow: auto;\n",
       "  }\n",
       "  table, th, td {\n",
       "    border: 1px solid black;\n",
       "    border-collapse: collapse;\n",
       "  }\n",
       "  th, td {\n",
       "    padding: 5px;\n",
       "  }\n",
       "  th {\n",
       "    text-align: left;\n",
       "  }\n",
       "</style><div class='table-result-container'><table class='table-result'><thead style='background-color: white'><tr></tr></thead><tbody></tbody></table></div>"
      ]
     },
     "metadata": {
      "application/vnd.databricks.v1+output": {
       "addedWidgets": {},
       "aggData": [],
       "aggError": "",
       "aggOverflow": false,
       "aggSchema": [],
       "aggSeriesLimitReached": false,
       "aggType": "",
       "arguments": {},
       "columnCustomDisplayInfos": {},
       "data": [],
       "datasetInfos": [],
       "dbfsResultPath": null,
       "isJsonSchema": true,
       "metadata": {
        "dataframeName": null
       },
       "overflow": false,
       "plotOptions": {
        "customPlotOptions": {},
        "displayType": "table",
        "pivotAggregation": null,
        "pivotColumns": null,
        "xColumns": null,
        "yColumns": null
       },
       "removedWidgets": [],
       "schema": [],
       "type": "table"
      }
     },
     "output_type": "display_data"
    }
   ],
   "source": [
    "%sql\n",
    "USE CATALOG aprendisaje;\n"
   ]
  },
  {
   "cell_type": "markdown",
   "metadata": {
    "application/vnd.databricks.v1+cell": {
     "cellMetadata": {},
     "inputWidgets": {},
     "nuid": "c1fd1dd0-3547-4cd4-8395-6c41730ce885",
     "showTitle": false,
     "tableResultSettingsMap": {},
     "title": ""
    }
   },
   "source": [
    "Selecionamos el esquema a usar "
   ]
  },
  {
   "cell_type": "code",
   "execution_count": 0,
   "metadata": {
    "application/vnd.databricks.v1+cell": {
     "cellMetadata": {
      "byteLimit": 2048000,
      "implicitDf": true,
      "rowLimit": 10000
     },
     "inputWidgets": {},
     "nuid": "c501e88e-e568-4c54-bb20-16f93261169f",
     "showTitle": false,
     "tableResultSettingsMap": {},
     "title": ""
    }
   },
   "outputs": [
    {
     "output_type": "display_data",
     "data": {
      "text/html": [
       "<style scoped>\n",
       "  .table-result-container {\n",
       "    max-height: 300px;\n",
       "    overflow: auto;\n",
       "  }\n",
       "  table, th, td {\n",
       "    border: 1px solid black;\n",
       "    border-collapse: collapse;\n",
       "  }\n",
       "  th, td {\n",
       "    padding: 5px;\n",
       "  }\n",
       "  th {\n",
       "    text-align: left;\n",
       "  }\n",
       "</style><div class='table-result-container'><table class='table-result'><thead style='background-color: white'><tr><th>databaseName</th></tr></thead><tbody><tr><td>default</td></tr><tr><td>information_schema</td></tr><tr><td>servicios</td></tr></tbody></table></div>"
      ]
     },
     "metadata": {
      "application/vnd.databricks.v1+output": {
       "addedWidgets": {},
       "aggData": [],
       "aggError": "",
       "aggOverflow": false,
       "aggSchema": [],
       "aggSeriesLimitReached": false,
       "aggType": "",
       "arguments": {},
       "columnCustomDisplayInfos": {},
       "data": [
        [
         "default"
        ],
        [
         "information_schema"
        ],
        [
         "servicios"
        ]
       ],
       "datasetInfos": [],
       "dbfsResultPath": null,
       "isJsonSchema": true,
       "metadata": {
        "createTempViewForImplicitDf": true,
        "dataframeName": "_sqldf",
        "executionCount": 7
       },
       "overflow": false,
       "plotOptions": {
        "customPlotOptions": {},
        "displayType": "table",
        "pivotAggregation": null,
        "pivotColumns": null,
        "xColumns": null,
        "yColumns": null
       },
       "removedWidgets": [],
       "schema": [
        {
         "metadata": "{}",
         "name": "databaseName",
         "type": "\"string\""
        }
       ],
       "type": "table"
      }
     },
     "output_type": "display_data"
    }
   ],
   "source": [
    "%sql\n",
    "SHOW SCHEMAS;\n"
   ]
  },
  {
   "cell_type": "markdown",
   "metadata": {
    "application/vnd.databricks.v1+cell": {
     "cellMetadata": {},
     "inputWidgets": {},
     "nuid": "3261105c-9e52-455c-a5ef-7b71b97ca2e5",
     "showTitle": false,
     "tableResultSettingsMap": {},
     "title": ""
    }
   },
   "source": [
    "Creamos las tablas Delta en Unity Catalog"
   ]
  },
  {
   "cell_type": "code",
   "execution_count": 0,
   "metadata": {
    "application/vnd.databricks.v1+cell": {
     "cellMetadata": {
      "byteLimit": 2048000,
      "rowLimit": 10000
     },
     "inputWidgets": {},
     "nuid": "8bb94666-ee07-4037-b477-808861ebea74",
     "showTitle": false,
     "tableResultSettingsMap": {},
     "title": ""
    }
   },
   "outputs": [
    {
     "output_type": "stream",
     "name": "stdout",
     "output_type": "stream",
     "text": [
      "Tabla centros_educacion_dim creada exitosamente en el catálogo 'aprendisaje'.\nTabla centros_entretenimiento_dim creada exitosamente en el catálogo 'aprendisaje'.\nTabla centros_hosteleria_dim creada exitosamente en el catálogo 'aprendisaje'.\nTabla ciudades_dim creada exitosamente en el catálogo 'aprendisaje'.\nTabla servicio_restaurantes creada exitosamente en el catálogo 'aprendisaje'.\nTabla servicio_tiendas_negocio_dim creada exitosamente en el catálogo 'aprendisaje'.\nTabla servicio_tiendas_negocios creada exitosamente en el catálogo 'aprendisaje'.\nTabla servicio_transporte creada exitosamente en el catálogo 'aprendisaje'.\nTabla servicio_transporte_dim creada exitosamente en el catálogo 'aprendisaje'.\nTabla servicios_educacion creada exitosamente en el catálogo 'aprendisaje'.\nTabla servicios_entretenimiento creada exitosamente en el catálogo 'aprendisaje'.\nTabla servicios_hospedaje creada exitosamente en el catálogo 'aprendisaje'.\nTabla servicios_restaurantes_dim creada exitosamente en el catálogo 'aprendisaje'.\n"
     ]
    }
   ],
   "source": [
    "# Cargamos la ruta donde subimos los datos de los archivos\n",
    "ruta_base = \"dbfs:/Volumes/aprendisaje/default/servicios2/\"\n",
    "\n",
    "# Listmos los archivos con sus nombres de tablas Delta\n",
    "archivos = [\n",
    "    {\"archivo\": \"centros_educacion_dim.csv\", \"tabla\": \"centros_educacion_dim\"},\n",
    "    {\"archivo\": \"centros_entretenimiento_dim.csv\", \"tabla\": \"centros_entretenimiento_dim\"},\n",
    "    {\"archivo\": \"centros_hosteleria_dim.csv\", \"tabla\": \"centros_hosteleria_dim\"},\n",
    "    {\"archivo\": \"ciudades_dim.csv\", \"tabla\": \"ciudades_dim\"},\n",
    "    {\"archivo\": \"servicio_restaurantes.csv\", \"tabla\": \"servicio_restaurantes\"},\n",
    "    {\"archivo\": \"servicio_tiendas_negocio_dim.csv\", \"tabla\": \"servicio_tiendas_negocio_dim\"},\n",
    "    {\"archivo\": \"servicio_tiendas_negocios.csv\", \"tabla\": \"servicio_tiendas_negocios\"},\n",
    "    {\"archivo\": \"servicio_transporte.csv\", \"tabla\": \"servicio_transporte\"},\n",
    "    {\"archivo\": \"servicio_transporte_dim.csv\", \"tabla\": \"servicio_transporte_dim\"},\n",
    "    {\"archivo\": \"servicios_educacion.csv\", \"tabla\": \"servicios_educacion\"},\n",
    "    {\"archivo\": \"servicios_entretenimiento.csv\", \"tabla\": \"servicios_entretenimiento\"},\n",
    "    {\"archivo\": \"servicios_hospedaje.csv\", \"tabla\": \"servicios_hospedaje\"},\n",
    "    {\"archivo\": \"servicios_restaurantes_dim.csv\", \"tabla\": \"servicios_restaurantes_dim\"}\n",
    "]\n",
    "\n",
    "# Convertimos  cada archivo a Delta\n",
    "for archivo_info in archivos:\n",
    "    ruta_archivo = ruta_base + archivo_info[\"archivo\"]\n",
    "    tabla = archivo_info[\"tabla\"]\n",
    "    \n",
    "    # Cargamos los archivos como un  Spark DataFrame\n",
    "    df = spark.read.format(\"csv\").option(\"header\", \"true\").option(\"inferSchema\", \"true\").load(ruta_archivo)\n",
    "    \n",
    "    # Creamos la tabla Delta directamente en Unity Catalog\n",
    "    df.write.format(\"delta\").mode(\"overwrite\").saveAsTable(f\"aprendisaje.default.{tabla}\")\n",
    "    \n",
    "    print(f\"Tabla {tabla} creada exitosamente en el catálogo 'aprendisaje'.\")\n"
   ]
  },
  {
   "cell_type": "markdown",
   "metadata": {
    "application/vnd.databricks.v1+cell": {
     "cellMetadata": {},
     "inputWidgets": {},
     "nuid": "5e751de9-b8d0-42a6-8be7-173fa71b3e75",
     "showTitle": false,
     "tableResultSettingsMap": {},
     "title": ""
    }
   },
   "source": [
    "Verificamos si las tablas fueron creadas correctamente y no son temporales\n"
   ]
  },
  {
   "cell_type": "code",
   "execution_count": 0,
   "metadata": {
    "application/vnd.databricks.v1+cell": {
     "cellMetadata": {
      "byteLimit": 2048000,
      "implicitDf": true,
      "rowLimit": 10000
     },
     "inputWidgets": {},
     "nuid": "836e7818-ea2a-4efb-b260-c7a36ed3a9fc",
     "showTitle": false,
     "tableResultSettingsMap": {},
     "title": ""
    }
   },
   "outputs": [
    {
     "output_type": "display_data",
     "data": {
      "text/html": [
       "<style scoped>\n",
       "  .table-result-container {\n",
       "    max-height: 300px;\n",
       "    overflow: auto;\n",
       "  }\n",
       "  table, th, td {\n",
       "    border: 1px solid black;\n",
       "    border-collapse: collapse;\n",
       "  }\n",
       "  th, td {\n",
       "    padding: 5px;\n",
       "  }\n",
       "  th {\n",
       "    text-align: left;\n",
       "  }\n",
       "</style><div class='table-result-container'><table class='table-result'><thead style='background-color: white'><tr><th>database</th><th>tableName</th><th>isTemporary</th></tr></thead><tbody><tr><td>default</td><td>centros_educacion_dim</td><td>false</td></tr><tr><td>default</td><td>centros_entretenimiento_dim</td><td>false</td></tr><tr><td>default</td><td>centros_hosteleria_dim</td><td>false</td></tr><tr><td>default</td><td>ciudades_dim</td><td>false</td></tr><tr><td>default</td><td>servicio_restaurantes</td><td>false</td></tr><tr><td>default</td><td>servicio_tiendas_negocio_dim</td><td>false</td></tr><tr><td>default</td><td>servicio_tiendas_negocios</td><td>false</td></tr><tr><td>default</td><td>servicio_transporte</td><td>false</td></tr><tr><td>default</td><td>servicio_transporte_dim</td><td>false</td></tr><tr><td>default</td><td>servicios_educacion</td><td>false</td></tr><tr><td>default</td><td>servicios_entretenimiento</td><td>false</td></tr><tr><td>default</td><td>servicios_hospedaje</td><td>false</td></tr><tr><td>default</td><td>servicios_restaurantes_dim</td><td>false</td></tr><tr><td></td><td>_sqldf</td><td>true</td></tr></tbody></table></div>"
      ]
     },
     "metadata": {
      "application/vnd.databricks.v1+output": {
       "addedWidgets": {},
       "aggData": [],
       "aggError": "",
       "aggOverflow": false,
       "aggSchema": [],
       "aggSeriesLimitReached": false,
       "aggType": "",
       "arguments": {},
       "columnCustomDisplayInfos": {},
       "data": [
        [
         "default",
         "centros_educacion_dim",
         false
        ],
        [
         "default",
         "centros_entretenimiento_dim",
         false
        ],
        [
         "default",
         "centros_hosteleria_dim",
         false
        ],
        [
         "default",
         "ciudades_dim",
         false
        ],
        [
         "default",
         "servicio_restaurantes",
         false
        ],
        [
         "default",
         "servicio_tiendas_negocio_dim",
         false
        ],
        [
         "default",
         "servicio_tiendas_negocios",
         false
        ],
        [
         "default",
         "servicio_transporte",
         false
        ],
        [
         "default",
         "servicio_transporte_dim",
         false
        ],
        [
         "default",
         "servicios_educacion",
         false
        ],
        [
         "default",
         "servicios_entretenimiento",
         false
        ],
        [
         "default",
         "servicios_hospedaje",
         false
        ],
        [
         "default",
         "servicios_restaurantes_dim",
         false
        ],
        [
         "",
         "_sqldf",
         true
        ]
       ],
       "datasetInfos": [],
       "dbfsResultPath": null,
       "isJsonSchema": true,
       "metadata": {
        "createTempViewForImplicitDf": true,
        "dataframeName": "_sqldf",
        "executionCount": 9
       },
       "overflow": false,
       "plotOptions": {
        "customPlotOptions": {},
        "displayType": "table",
        "pivotAggregation": null,
        "pivotColumns": null,
        "xColumns": null,
        "yColumns": null
       },
       "removedWidgets": [],
       "schema": [
        {
         "metadata": "{}",
         "name": "database",
         "type": "\"string\""
        },
        {
         "metadata": "{}",
         "name": "tableName",
         "type": "\"string\""
        },
        {
         "metadata": "{}",
         "name": "isTemporary",
         "type": "\"boolean\""
        }
       ],
       "type": "table"
      }
     },
     "output_type": "display_data"
    }
   ],
   "source": [
    "%sql\n",
    "SHOW TABLES IN aprendisaje.default;\n"
   ]
  },
  {
   "cell_type": "markdown",
   "metadata": {
    "application/vnd.databricks.v1+cell": {
     "cellMetadata": {},
     "inputWidgets": {},
     "nuid": "5d5d909a-9781-4e7b-b306-220a5311604d",
     "showTitle": false,
     "tableResultSettingsMap": {},
     "title": ""
    }
   },
   "source": [
    "Confirmamos si el archivo se a subido corectamente para la carga desde la pc"
   ]
  },
  {
   "cell_type": "code",
   "execution_count": 0,
   "metadata": {
    "application/vnd.databricks.v1+cell": {
     "cellMetadata": {
      "byteLimit": 2048000,
      "rowLimit": 10000
     },
     "inputWidgets": {},
     "nuid": "31789e78-8c2b-4f85-8c1a-939ecaee5d94",
     "showTitle": false,
     "tableResultSettingsMap": {},
     "title": ""
    }
   },
   "outputs": [
    {
     "output_type": "execute_result",
     "data": {
      "text/plain": [
       "[FileInfo(path='dbfs:/mnt/ingest_data/raw/datos_de_prueba.xlsx', name='datos_de_prueba.xlsx', size=62423, modificationTime=1737332905000)]"
      ]
     },
     "execution_count": 11,
     "metadata": {},
     "output_type": "execute_result"
    }
   ],
   "source": [
    "# Verificar el contenido de la carpeta en DBFS\n",
    "dbutils.fs.ls(\"dbfs:/mnt/ingest_data/raw/\")\n"
   ]
  }
 ],
 "metadata": {
  "application/vnd.databricks.v1+notebook": {
   "computePreferences": null,
   "dashboards": [],
   "environmentMetadata": {
    "base_environment": "",
    "client": "1"
   },
   "language": "python",
   "notebookMetadata": {
    "mostRecentlyExecutedCommandWithImplicitDF": {
     "commandId": 387935998820927,
     "dataframes": [
      "_sqldf"
     ]
    },
    "pythonIndentUnit": 4
   },
   "notebookName": "carga y trasformacion de datos",
   "widgets": {}
  },
  "language_info": {
   "name": "python"
  }
 },
 "nbformat": 4,
 "nbformat_minor": 0
}