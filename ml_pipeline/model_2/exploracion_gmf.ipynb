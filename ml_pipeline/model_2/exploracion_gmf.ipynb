{
 "cells": [
  {
   "cell_type": "markdown",
   "metadata": {},
   "source": [
    "#### <b>aplication</b>"
   ]
  },
  {
   "cell_type": "markdown",
   "metadata": {},
   "source": [
    "<h5 style=\"margin-left:2em;\">datasets</h5>"
   ]
  },
  {
   "cell_type": "code",
   "execution_count": 6,
   "metadata": {},
   "outputs": [],
   "source": [
    "import pandas as pd"
   ]
  },
  {
   "cell_type": "code",
   "execution_count": 7,
   "metadata": {},
   "outputs": [
    {
     "data": {
      "text/html": [
       "<div>\n",
       "<style scoped>\n",
       "    .dataframe tbody tr th:only-of-type {\n",
       "        vertical-align: middle;\n",
       "    }\n",
       "\n",
       "    .dataframe tbody tr th {\n",
       "        vertical-align: top;\n",
       "    }\n",
       "\n",
       "    .dataframe thead th {\n",
       "        text-align: right;\n",
       "    }\n",
       "</style>\n",
       "<table border=\"1\" class=\"dataframe\">\n",
       "  <thead>\n",
       "    <tr style=\"text-align: right;\">\n",
       "      <th></th>\n",
       "      <th>id_nombre</th>\n",
       "      <th>nombre</th>\n",
       "      <th>id_ciudad</th>\n",
       "      <th>latitud</th>\n",
       "      <th>longitud</th>\n",
       "      <th>categorias</th>\n",
       "      <th>puntuacion_usuarios</th>\n",
       "    </tr>\n",
       "  </thead>\n",
       "  <tbody>\n",
       "    <tr>\n",
       "      <th>0</th>\n",
       "      <td>0</td>\n",
       "      <td>taverna opa-tampa</td>\n",
       "      <td>RGTW</td>\n",
       "      <td>27.95169</td>\n",
       "      <td>-82.458753</td>\n",
       "      <td>Restaurants, Greek</td>\n",
       "      <td>2.5</td>\n",
       "    </tr>\n",
       "  </tbody>\n",
       "</table>\n",
       "</div>"
      ],
      "text/plain": [
       "   id_nombre             nombre id_ciudad   latitud   longitud  \\\n",
       "0          0  taverna opa-tampa      RGTW  27.95169 -82.458753   \n",
       "\n",
       "           categorias  puntuacion_usuarios  \n",
       "0  Restaurants, Greek                  2.5  "
      ]
     },
     "execution_count": 7,
     "metadata": {},
     "output_type": "execute_result"
    }
   ],
   "source": [
    "rest = pd.read_parquet(\"../Datasets/florida_restaurants.parquet\")\n",
    "rest.head(1)"
   ]
  },
  {
   "cell_type": "code",
   "execution_count": 8,
   "metadata": {},
   "outputs": [
    {
     "data": {
      "text/html": [
       "<div>\n",
       "<style scoped>\n",
       "    .dataframe tbody tr th:only-of-type {\n",
       "        vertical-align: middle;\n",
       "    }\n",
       "\n",
       "    .dataframe tbody tr th {\n",
       "        vertical-align: top;\n",
       "    }\n",
       "\n",
       "    .dataframe thead th {\n",
       "        text-align: right;\n",
       "    }\n",
       "</style>\n",
       "<table border=\"1\" class=\"dataframe\">\n",
       "  <thead>\n",
       "    <tr style=\"text-align: right;\">\n",
       "      <th></th>\n",
       "      <th>id_nombre</th>\n",
       "      <th>año</th>\n",
       "      <th>id_ciudad</th>\n",
       "      <th>categorias</th>\n",
       "      <th>puntuacion_usuarios</th>\n",
       "    </tr>\n",
       "  </thead>\n",
       "  <tbody>\n",
       "    <tr>\n",
       "      <th>0</th>\n",
       "      <td>0</td>\n",
       "      <td>2010</td>\n",
       "      <td>RGTW</td>\n",
       "      <td>Restaurants, Greek</td>\n",
       "      <td>2.5</td>\n",
       "    </tr>\n",
       "  </tbody>\n",
       "</table>\n",
       "</div>"
      ],
      "text/plain": [
       "   id_nombre   año id_ciudad          categorias  puntuacion_usuarios\n",
       "0          0  2010      RGTW  Restaurants, Greek                  2.5"
      ]
     },
     "execution_count": 8,
     "metadata": {},
     "output_type": "execute_result"
    }
   ],
   "source": [
    "yearly = pd.read_parquet(\"../Datasets/florida_yearly.parquet\")\n",
    "yearly.head(1)"
   ]
  },
  {
   "cell_type": "code",
   "execution_count": 9,
   "metadata": {},
   "outputs": [
    {
     "data": {
      "text/html": [
       "<div>\n",
       "<style scoped>\n",
       "    .dataframe tbody tr th:only-of-type {\n",
       "        vertical-align: middle;\n",
       "    }\n",
       "\n",
       "    .dataframe tbody tr th {\n",
       "        vertical-align: top;\n",
       "    }\n",
       "\n",
       "    .dataframe thead th {\n",
       "        text-align: right;\n",
       "    }\n",
       "</style>\n",
       "<table border=\"1\" class=\"dataframe\">\n",
       "  <thead>\n",
       "    <tr style=\"text-align: right;\">\n",
       "      <th></th>\n",
       "      <th>id_ciudad</th>\n",
       "      <th>ciudad</th>\n",
       "    </tr>\n",
       "  </thead>\n",
       "  <tbody>\n",
       "    <tr>\n",
       "      <th>0</th>\n",
       "      <td>Q2Pa</td>\n",
       "      <td>Miami Lakes</td>\n",
       "    </tr>\n",
       "  </tbody>\n",
       "</table>\n",
       "</div>"
      ],
      "text/plain": [
       "  id_ciudad       ciudad\n",
       "0      Q2Pa  Miami Lakes"
      ]
     },
     "execution_count": 9,
     "metadata": {},
     "output_type": "execute_result"
    }
   ],
   "source": [
    "cities = pd.read_parquet(\"../Datasets/florida_cities.parquet\")\n",
    "cities.head(1)"
   ]
  },
  {
   "cell_type": "markdown",
   "metadata": {},
   "source": [
    "<h5 style=\"margin-left:2em;\">AdaBoost Regressor para <small><i>yearly</i></small></h5>"
   ]
  },
  {
   "cell_type": "markdown",
   "metadata": {},
   "source": [
    "El modelo se puede expresar en 2 configuraciones\n",
    "* Por restaurante [id_nombre == id_nombre]\n",
    "* Por categoria [categoria in categories]"
   ]
  },
  {
   "cell_type": "code",
   "execution_count": 10,
   "metadata": {},
   "outputs": [],
   "source": [
    "from pycaret.regression import *\n",
    "from sklearn.model_selection import train_test_split\n",
    "from typing import Literal\n",
    "import numpy as np"
   ]
  },
  {
   "cell_type": "code",
   "execution_count": 21,
   "metadata": {},
   "outputs": [
    {
     "name": "stdout",
     "output_type": "stream",
     "text": [
      "Predicted value for 2023: [3.5, 0.0]\n"
     ]
    },
    {
     "data": {
      "image/png": "[encoded data removed]",
      "text/plain": [
       "<Figure size 800x550 with 1 Axes>"
      ]
     },
     "metadata": {},
     "output_type": "display_data"
    }
   ],
   "source": [
    "import numpy as np\n",
    "import pandas as pd\n",
    "from sklearn.preprocessing import PolynomialFeatures\n",
    "from sklearn.linear_model import LinearRegression\n",
    "from sklearn.pipeline import make_pipeline\n",
    "import matplotlib.pyplot as plt\n",
    "\n",
    "class GrandMeansForecaster:\n",
    "    def __init__(self, degree=2):\n",
    "        \"\"\"\n",
    "        Initializes the forecaster with a polynomial regression model.\n",
    "        :param degree: Degree of the polynomial to fit.\n",
    "        \"\"\"\n",
    "        self.model = make_pipeline(PolynomialFeatures(degree), LinearRegression())\n",
    "    \n",
    "    def fit_predict(self, df:pd.DataFrame, year):\n",
    "        \"\"\"\n",
    "        Fits the model to the provided data.\n",
    "        :param df: DataFrame with columns \"año\" and \"value\".\n",
    "        \"\"\"\n",
    "        df_ordered = df.sort_values(by=[\"año\"])\n",
    "        X = df_ordered[['año']].values\n",
    "        y = df_ordered['value'].values\n",
    "        self.model.fit(X, y)\n",
    "\n",
    "        pr = self.model.predict([[year]])[0]\n",
    "        if pr>5:\n",
    "            pr = 5.0\n",
    "        elif pr<0:\n",
    "            pr = 0.0\n",
    "        \n",
    "        if year-1 in X:\n",
    "            prev = df_ordered[df_ordered['año']== year-1 ][\"value\"].values[0]\n",
    "        else:\n",
    "            prev = self.model.predict([[year-1]])[0]\n",
    "            if prev>5:\n",
    "                prev = 5.0\n",
    "            elif prev<0:\n",
    "                prev = 0.0\n",
    "\n",
    "        diff = pr - prev\n",
    "        return [pr, diff]\n",
    "    \n",
    "    def visualize(self, df):\n",
    "        \"\"\"\n",
    "        Visualizes the fit of the model on the data.\n",
    "        :param df: DataFrame with columns \"año\" and \"value\".\n",
    "        \"\"\"\n",
    "        plt.scatter(df['año'], df['value'], color='blue', label='Data')\n",
    "        years = np.linspace(df['año'].min(), df['año'].max(), 500)\n",
    "        predictions = self.model.predict(years.reshape(-1, 1))\n",
    "        plt.plot(years, predictions, color='red', label='Model Fit')\n",
    "        plt.xlabel('Año')\n",
    "        plt.ylabel('Value')\n",
    "        plt.legend()\n",
    "        plt.title('Grand Means Forecaster Fit')\n",
    "        plt.show()\n",
    "\n",
    "# Example usage: #! Remove on deployment code\n",
    "# Sample data\n",
    "target_data = yearly[yearly[\"id_nombre\"] == 1451]\n",
    "target_data = target_data[[\"año\", \"puntuacion_usuarios\"]]\n",
    "# Verificar si hay datos suficientes\n",
    "if len(target_data) < 2:\n",
    "    print(\"No hay suficientes datos para hacer un pronóstico.\") #! Remove on deployment\n",
    "\n",
    "\n",
    "target_data.sort_values(by=['año'], inplace=True)\n",
    "data = {\n",
    "    \"año\": target_data[\"año\"].values,\n",
    "    \"value\": target_data[\"puntuacion_usuarios\"].values\n",
    "}\n",
    "df = pd.DataFrame(data)\n",
    "\n",
    "# Initialize, train, and predict\n",
    "forecaster = GrandMeansForecaster(degree=3)\n",
    "\n",
    "predicted_value = forecaster.fit_predict(df, 2023)\n",
    "print(f\"Predicted value for 2023: {predicted_value}\")\n",
    "\n",
    "# Visualize\n",
    "forecaster.visualize(df)"
   ]
  },
  {
   "cell_type": "markdown",
   "metadata": {},
   "source": [
    "##### Por restaurante:"
   ]
  },
  {
   "cell_type": "code",
   "execution_count": 12,
   "metadata": {},
   "outputs": [],
   "source": [
    "def tendency_restaurant(id_nombre:int, year:int=2023,  *, target:Literal[\"puntuacion_usuarios\", \"puntuacion_yelp\"]=\"puntuacion_usuarios\")-> None | list[float]:\n",
    "    target_data = yearly[yearly[\"id_nombre\"] == id_nombre]\n",
    "    target_data = target_data[[\"año\", target]]\n",
    "    # Verificar si hay datos suficientes\n",
    "    if len(target_data) < 2:\n",
    "        print(\"No hay suficientes datos para hacer un pronóstico.\") #! Remove on deployment\n",
    "\n",
    "\n",
    "    target_data.sort_values(by=['año'], inplace=True)\n",
    "    data = {\n",
    "        \"año\": target_data[\"año\"].values,\n",
    "        \"value\": target_data[target].values\n",
    "    }\n",
    "    df = pd.DataFrame(data)\n",
    "\n",
    "    # Initialize, train, and predict\n",
    "    forecaster = GrandMeansForecaster(degree=3)\n",
    "\n",
    "    predicted_value = forecaster.fit_predict(df, year)\n",
    "    print(f\"Predicted value for {year}: {predicted_value[0]:.2f}, for a difference of {predicted_value[1]:.2f}\")\n",
    "\n",
    "    return predicted_value"
   ]
  },
  {
   "cell_type": "code",
   "execution_count": 13,
   "metadata": {},
   "outputs": [
    {
     "name": "stdout",
     "output_type": "stream",
     "text": [
      "Predicted value for 2023: 2.50, for a difference of 0.00\n"
     ]
    },
    {
     "data": {
      "text/plain": [
       "[2.5, 0.0]"
      ]
     },
     "execution_count": 13,
     "metadata": {},
     "output_type": "execute_result"
    }
   ],
   "source": [
    "tendency_restaurant(0)"
   ]
  },
  {
   "cell_type": "markdown",
   "metadata": {},
   "source": [
    "##### Por categoria:"
   ]
  },
  {
   "cell_type": "code",
   "execution_count": 17,
   "metadata": {},
   "outputs": [],
   "source": [
    "def tendency_category(category: str, city_parquet_id: int | None = None, year:int=2023,  *, target:Literal[\"puntuacion_usuarios\", \"puntuacion_yelp\"]=\"puntuacion_usuarios\")-> None | list[float]:\n",
    "    if city_parquet_id is not None:\n",
    "        target_data = yearly[yearly[\"id_ciudad\"] == city_parquet_id]\n",
    "        target_data = target_data[[\"año\", target]]\n",
    "    else:\n",
    "        target_data = target_data[[\"año\", target]]\n",
    "    \n",
    "    \n",
    "    target_data = yearly[yearly['categorias'].str.contains(category)]\n",
    "\n",
    "    # Agrupar por año y calcular la puntuación promedio de todos los restaurantes\n",
    "    target_data = target_data.groupby('año')[target].mean().reset_index()\n",
    "    \n",
    "    # Verificar si hay datos suficientes\n",
    "    if len(target_data) < 2:\n",
    "        print(\"No hay suficientes datos para hacer un pronóstico.\") #! Remove on deployment\n",
    "\n",
    "\n",
    "    target_data.sort_values(by=['año'], inplace=True)\n",
    "    data = {\n",
    "        \"año\": target_data[\"año\"].values,\n",
    "        \"value\": target_data[target].values\n",
    "    }\n",
    "    df = pd.DataFrame(data)\n",
    "\n",
    "    # Initialize, train, and predict\n",
    "    forecaster = GrandMeansForecaster(degree=3)\n",
    "\n",
    "    predicted_value = forecaster.fit_predict(df, year)\n",
    "    print(f\"Predicted value for {year}: {predicted_value[0]:.2f}, for a difference of {predicted_value[1]:.2f}\")\n",
    "\n",
    "    return predicted_value"
   ]
  },
  {
   "cell_type": "code",
   "execution_count": 18,
   "metadata": {},
   "outputs": [
    {
     "name": "stdout",
     "output_type": "stream",
     "text": [
      "Predicted value for 2023: 3.99, for a difference of 0.02\n"
     ]
    },
    {
     "data": {
      "text/plain": [
       "[3.9905121624469757, 0.015838959832596533]"
      ]
     },
     "execution_count": 18,
     "metadata": {},
     "output_type": "execute_result"
    }
   ],
   "source": [
    "tendency_category(\"Bars\", 20, 2023)"
   ]
  }
 ],
 "metadata": {
  "kernelspec": {
   "display_name": ".venv",
   "language": "python",
   "name": "python3"
  },
  "language_info": {
   "codemirror_mode": {
    "name": "ipython",
    "version": 3
   },
   "file_extension": ".py",
   "mimetype": "text/x-python",
   "name": "python",
   "nbconvert_exporter": "python",
   "pygments_lexer": "ipython3",
   "version": "3.11.9"
  }
 },
 "nbformat": 4,
 "nbformat_minor": 2
}
