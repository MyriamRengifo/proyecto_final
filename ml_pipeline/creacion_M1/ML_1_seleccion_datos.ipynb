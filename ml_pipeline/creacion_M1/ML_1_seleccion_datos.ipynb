{
 "cells": [
  {
   "cell_type": "markdown",
   "metadata": {},
   "source": [
    "PREPARACION DEL ARCHIVO DE DATOS PARA EL CONSUMO DEL MODELO DE PREDICCION DE PUNTAJES DE RESTAURANTES."
   ]
  },
  {
   "cell_type": "code",
   "execution_count": 38,
   "metadata": {},
   "outputs": [],
   "source": [
    "import pandas as pd\n",
    "import matplotlib.pyplot as plt \n",
    "import seaborn as sns\n",
    "import folium\n",
    "from mpl_toolkits.basemap import Basemap"
   ]
  },
  {
   "cell_type": "code",
   "execution_count": 7,
   "metadata": {},
   "outputs": [],
   "source": [
    "ruta = r'C:\\Users\\franc\\OneDrive\\Escritorio\\Henry\\Cursado Henry\\PF\\ML_pruebas\\servicio_restaurantes.csv'\n",
    "\n",
    "data = pd.read_csv(ruta)"
   ]
  },
  {
   "cell_type": "code",
   "execution_count": 65,
   "metadata": {},
   "outputs": [
    {
     "data": {
      "text/html": [
       "<div>\n",
       "<style scoped>\n",
       "    .dataframe tbody tr th:only-of-type {\n",
       "        vertical-align: middle;\n",
       "    }\n",
       "\n",
       "    .dataframe tbody tr th {\n",
       "        vertical-align: top;\n",
       "    }\n",
       "\n",
       "    .dataframe thead th {\n",
       "        text-align: right;\n",
       "    }\n",
       "</style>\n",
       "<table border=\"1\" class=\"dataframe\">\n",
       "  <thead>\n",
       "    <tr style=\"text-align: right;\">\n",
       "      <th></th>\n",
       "      <th>id_servicios_restaurantes</th>\n",
       "      <th>servicios_restaurantes</th>\n",
       "      <th>direccion</th>\n",
       "      <th>id_condado</th>\n",
       "      <th>condado</th>\n",
       "      <th>codigo_postal_condado</th>\n",
       "      <th>latitud_condado</th>\n",
       "      <th>longitud_condado</th>\n",
       "      <th>id_ciudad</th>\n",
       "      <th>ciudad</th>\n",
       "      <th>codigo_postal_ciudad</th>\n",
       "      <th>latitud_ciudad</th>\n",
       "      <th>longitud_ciudad</th>\n",
       "      <th>estado</th>\n",
       "      <th>categorias</th>\n",
       "      <th>puntuacion_usuarios</th>\n",
       "      <th>analisis_sentimientos</th>\n",
       "      <th>url_del_negocio</th>\n",
       "      <th>enlaces_google_maps</th>\n",
       "      <th>anio</th>\n",
       "    </tr>\n",
       "  </thead>\n",
       "  <tbody>\n",
       "    <tr>\n",
       "      <th>0</th>\n",
       "      <td>05HTY</td>\n",
       "      <td>ruby tuesday</td>\n",
       "      <td>Kirkman Road, Orlando</td>\n",
       "      <td>lomP</td>\n",
       "      <td>Orange</td>\n",
       "      <td>32801, 32839, 32789</td>\n",
       "      <td>28.484499</td>\n",
       "      <td>-81.251883</td>\n",
       "      <td>20si</td>\n",
       "      <td>apopka</td>\n",
       "      <td>32811</td>\n",
       "      <td>28.503323</td>\n",
       "      <td>-81.458029</td>\n",
       "      <td>Florida</td>\n",
       "      <td>NaN</td>\n",
       "      <td>NaN</td>\n",
       "      <td>NaN</td>\n",
       "      <td>NaN</td>\n",
       "      <td>NaN</td>\n",
       "      <td>2023</td>\n",
       "    </tr>\n",
       "    <tr>\n",
       "      <th>1</th>\n",
       "      <td>R252A</td>\n",
       "      <td>denny's</td>\n",
       "      <td>Kirkman Road, Orlando</td>\n",
       "      <td>lomP</td>\n",
       "      <td>Orange</td>\n",
       "      <td>32801, 32839, 32789</td>\n",
       "      <td>28.484499</td>\n",
       "      <td>-81.251883</td>\n",
       "      <td>20si</td>\n",
       "      <td>apopka</td>\n",
       "      <td>32811</td>\n",
       "      <td>28.502807</td>\n",
       "      <td>-81.458022</td>\n",
       "      <td>Florida</td>\n",
       "      <td>NaN</td>\n",
       "      <td>NaN</td>\n",
       "      <td>NaN</td>\n",
       "      <td>NaN</td>\n",
       "      <td>NaN</td>\n",
       "      <td>2023</td>\n",
       "    </tr>\n",
       "    <tr>\n",
       "      <th>2</th>\n",
       "      <td>U8STH</td>\n",
       "      <td>el puerto argentinean grill</td>\n",
       "      <td>North 17th Street, Ybor City</td>\n",
       "      <td>uHNL</td>\n",
       "      <td>Hillsborough</td>\n",
       "      <td>33602, 33647, 33511</td>\n",
       "      <td>27.990360</td>\n",
       "      <td>-82.301773</td>\n",
       "      <td>w2w7</td>\n",
       "      <td>brandon</td>\n",
       "      <td>33605</td>\n",
       "      <td>27.958677</td>\n",
       "      <td>-82.440585</td>\n",
       "      <td>Florida</td>\n",
       "      <td>NaN</td>\n",
       "      <td>NaN</td>\n",
       "      <td>NaN</td>\n",
       "      <td>NaN</td>\n",
       "      <td>NaN</td>\n",
       "      <td>2023</td>\n",
       "    </tr>\n",
       "    <tr>\n",
       "      <th>3</th>\n",
       "      <td>A9XWK</td>\n",
       "      <td>la terrazza restaurant</td>\n",
       "      <td>1727, East 7th Avenue</td>\n",
       "      <td>uHNL</td>\n",
       "      <td>Hillsborough</td>\n",
       "      <td>33602, 33647, 33511</td>\n",
       "      <td>27.990360</td>\n",
       "      <td>-82.301773</td>\n",
       "      <td>w2w7</td>\n",
       "      <td>brandon</td>\n",
       "      <td>33605</td>\n",
       "      <td>27.960129</td>\n",
       "      <td>-82.439679</td>\n",
       "      <td>Florida</td>\n",
       "      <td>NaN</td>\n",
       "      <td>NaN</td>\n",
       "      <td>NaN</td>\n",
       "      <td>NaN</td>\n",
       "      <td>NaN</td>\n",
       "      <td>2023</td>\n",
       "    </tr>\n",
       "    <tr>\n",
       "      <th>4</th>\n",
       "      <td>SEKWE</td>\n",
       "      <td>the country club of florida</td>\n",
       "      <td>22, Country Road</td>\n",
       "      <td>WpVu</td>\n",
       "      <td>Palm Beach</td>\n",
       "      <td>33401, 33411, 33480</td>\n",
       "      <td>26.651450</td>\n",
       "      <td>-80.276733</td>\n",
       "      <td>at0h</td>\n",
       "      <td>west palm beach</td>\n",
       "      <td>33436</td>\n",
       "      <td>26.504356</td>\n",
       "      <td>-80.103306</td>\n",
       "      <td>Florida</td>\n",
       "      <td>NaN</td>\n",
       "      <td>NaN</td>\n",
       "      <td>NaN</td>\n",
       "      <td>NaN</td>\n",
       "      <td>NaN</td>\n",
       "      <td>2023</td>\n",
       "    </tr>\n",
       "  </tbody>\n",
       "</table>\n",
       "</div>"
      ],
      "text/plain": [
       "  id_servicios_restaurantes       servicios_restaurantes  \\\n",
       "0                     05HTY                 ruby tuesday   \n",
       "1                     R252A                      denny's   \n",
       "2                     U8STH  el puerto argentinean grill   \n",
       "3                     A9XWK       la terrazza restaurant   \n",
       "4                     SEKWE  the country club of florida   \n",
       "\n",
       "                      direccion id_condado       condado  \\\n",
       "0         Kirkman Road, Orlando       lomP        Orange   \n",
       "1         Kirkman Road, Orlando       lomP        Orange   \n",
       "2  North 17th Street, Ybor City       uHNL  Hillsborough   \n",
       "3         1727, East 7th Avenue       uHNL  Hillsborough   \n",
       "4              22, Country Road       WpVu    Palm Beach   \n",
       "\n",
       "  codigo_postal_condado  latitud_condado  longitud_condado id_ciudad  \\\n",
       "0   32801, 32839, 32789        28.484499        -81.251883      20si   \n",
       "1   32801, 32839, 32789        28.484499        -81.251883      20si   \n",
       "2   33602, 33647, 33511        27.990360        -82.301773      w2w7   \n",
       "3   33602, 33647, 33511        27.990360        -82.301773      w2w7   \n",
       "4   33401, 33411, 33480        26.651450        -80.276733      at0h   \n",
       "\n",
       "            ciudad codigo_postal_ciudad  latitud_ciudad  longitud_ciudad  \\\n",
       "0           apopka                32811       28.503323       -81.458029   \n",
       "1           apopka                32811       28.502807       -81.458022   \n",
       "2          brandon                33605       27.958677       -82.440585   \n",
       "3          brandon                33605       27.960129       -82.439679   \n",
       "4  west palm beach                33436       26.504356       -80.103306   \n",
       "\n",
       "    estado categorias  puntuacion_usuarios analisis_sentimientos  \\\n",
       "0  Florida        NaN                  NaN                   NaN   \n",
       "1  Florida        NaN                  NaN                   NaN   \n",
       "2  Florida        NaN                  NaN                   NaN   \n",
       "3  Florida        NaN                  NaN                   NaN   \n",
       "4  Florida        NaN                  NaN                   NaN   \n",
       "\n",
       "   url_del_negocio  enlaces_google_maps  anio  \n",
       "0              NaN                  NaN  2023  \n",
       "1              NaN                  NaN  2023  \n",
       "2              NaN                  NaN  2023  \n",
       "3              NaN                  NaN  2023  \n",
       "4              NaN                  NaN  2023  "
      ]
     },
     "execution_count": 65,
     "metadata": {},
     "output_type": "execute_result"
    }
   ],
   "source": [
    "data.head()"
   ]
  },
  {
   "cell_type": "code",
   "execution_count": 66,
   "metadata": {},
   "outputs": [],
   "source": [
    "# Nos quedamos solo con los datos que no interesa para el modelo.\n",
    "\n",
    "puntajes_lat_long = data[['id_servicios_restaurantes','latitud_ciudad', 'longitud_ciudad','puntuacion_usuarios','anio']]"
   ]
  },
  {
   "cell_type": "code",
   "execution_count": 67,
   "metadata": {},
   "outputs": [
    {
     "data": {
      "text/html": [
       "<div>\n",
       "<style scoped>\n",
       "    .dataframe tbody tr th:only-of-type {\n",
       "        vertical-align: middle;\n",
       "    }\n",
       "\n",
       "    .dataframe tbody tr th {\n",
       "        vertical-align: top;\n",
       "    }\n",
       "\n",
       "    .dataframe thead th {\n",
       "        text-align: right;\n",
       "    }\n",
       "</style>\n",
       "<table border=\"1\" class=\"dataframe\">\n",
       "  <thead>\n",
       "    <tr style=\"text-align: right;\">\n",
       "      <th></th>\n",
       "      <th>id_servicios_restaurantes</th>\n",
       "      <th>latitud_ciudad</th>\n",
       "      <th>longitud_ciudad</th>\n",
       "      <th>puntuacion_usuarios</th>\n",
       "      <th>anio</th>\n",
       "    </tr>\n",
       "  </thead>\n",
       "  <tbody>\n",
       "    <tr>\n",
       "      <th>0</th>\n",
       "      <td>05HTY</td>\n",
       "      <td>28.503323</td>\n",
       "      <td>-81.458029</td>\n",
       "      <td>NaN</td>\n",
       "      <td>2023</td>\n",
       "    </tr>\n",
       "    <tr>\n",
       "      <th>1</th>\n",
       "      <td>R252A</td>\n",
       "      <td>28.502807</td>\n",
       "      <td>-81.458022</td>\n",
       "      <td>NaN</td>\n",
       "      <td>2023</td>\n",
       "    </tr>\n",
       "    <tr>\n",
       "      <th>2</th>\n",
       "      <td>U8STH</td>\n",
       "      <td>27.958677</td>\n",
       "      <td>-82.440585</td>\n",
       "      <td>NaN</td>\n",
       "      <td>2023</td>\n",
       "    </tr>\n",
       "    <tr>\n",
       "      <th>3</th>\n",
       "      <td>A9XWK</td>\n",
       "      <td>27.960129</td>\n",
       "      <td>-82.439679</td>\n",
       "      <td>NaN</td>\n",
       "      <td>2023</td>\n",
       "    </tr>\n",
       "    <tr>\n",
       "      <th>4</th>\n",
       "      <td>SEKWE</td>\n",
       "      <td>26.504356</td>\n",
       "      <td>-80.103306</td>\n",
       "      <td>NaN</td>\n",
       "      <td>2023</td>\n",
       "    </tr>\n",
       "  </tbody>\n",
       "</table>\n",
       "</div>"
      ],
      "text/plain": [
       "  id_servicios_restaurantes  latitud_ciudad  longitud_ciudad  \\\n",
       "0                     05HTY       28.503323       -81.458029   \n",
       "1                     R252A       28.502807       -81.458022   \n",
       "2                     U8STH       27.958677       -82.440585   \n",
       "3                     A9XWK       27.960129       -82.439679   \n",
       "4                     SEKWE       26.504356       -80.103306   \n",
       "\n",
       "   puntuacion_usuarios  anio  \n",
       "0                  NaN  2023  \n",
       "1                  NaN  2023  \n",
       "2                  NaN  2023  \n",
       "3                  NaN  2023  \n",
       "4                  NaN  2023  "
      ]
     },
     "execution_count": 67,
     "metadata": {},
     "output_type": "execute_result"
    }
   ],
   "source": [
    "puntajes_lat_long.head()"
   ]
  },
  {
   "cell_type": "code",
   "execution_count": 24,
   "metadata": {},
   "outputs": [
    {
     "name": "stdout",
     "output_type": "stream",
     "text": [
      "<class 'pandas.core.frame.DataFrame'>\n",
      "RangeIndex: 70391 entries, 0 to 70390\n",
      "Data columns (total 5 columns):\n",
      " #   Column                     Non-Null Count  Dtype  \n",
      "---  ------                     --------------  -----  \n",
      " 0   id_servicios_restaurantes  70391 non-null  object \n",
      " 1   latitud_ciudad             70391 non-null  float64\n",
      " 2   longitud_ciudad            70391 non-null  float64\n",
      " 3   puntuacion_usuarios        61252 non-null  float64\n",
      " 4   anio                       70391 non-null  int64  \n",
      "dtypes: float64(3), int64(1), object(1)\n",
      "memory usage: 2.7+ MB\n"
     ]
    }
   ],
   "source": [
    "puntajes_lat_long.info()"
   ]
  },
  {
   "cell_type": "code",
   "execution_count": 68,
   "metadata": {},
   "outputs": [
    {
     "name": "stderr",
     "output_type": "stream",
     "text": [
      "C:\\Users\\franc\\AppData\\Local\\Temp\\ipykernel_20492\\4134900312.py:3: SettingWithCopyWarning: \n",
      "A value is trying to be set on a copy of a slice from a DataFrame\n",
      "\n",
      "See the caveats in the documentation: https://pandas.pydata.org/pandas-docs/stable/user_guide/indexing.html#returning-a-view-versus-a-copy\n",
      "  puntajes_lat_long.dropna(subset=['puntuacion_usuarios'], inplace=True)\n"
     ]
    }
   ],
   "source": [
    "# Eliminamos todas las filas que no tengan puntaje, ya que no aportan valor al analisis. \n",
    "\n",
    "puntajes_lat_long.dropna(subset=['puntuacion_usuarios'], inplace=True)"
   ]
  },
  {
   "cell_type": "code",
   "execution_count": 69,
   "metadata": {},
   "outputs": [
    {
     "name": "stdout",
     "output_type": "stream",
     "text": [
      "<class 'pandas.core.frame.DataFrame'>\n",
      "Index: 61252 entries, 9139 to 70390\n",
      "Data columns (total 5 columns):\n",
      " #   Column                     Non-Null Count  Dtype  \n",
      "---  ------                     --------------  -----  \n",
      " 0   id_servicios_restaurantes  61252 non-null  object \n",
      " 1   latitud_ciudad             61252 non-null  float64\n",
      " 2   longitud_ciudad            61252 non-null  float64\n",
      " 3   puntuacion_usuarios        61252 non-null  float64\n",
      " 4   anio                       61252 non-null  int64  \n",
      "dtypes: float64(3), int64(1), object(1)\n",
      "memory usage: 2.8+ MB\n"
     ]
    }
   ],
   "source": [
    "puntajes_lat_long.info()"
   ]
  },
  {
   "cell_type": "code",
   "execution_count": 27,
   "metadata": {},
   "outputs": [
    {
     "data": {
      "text/html": [
       "<div>\n",
       "<style scoped>\n",
       "    .dataframe tbody tr th:only-of-type {\n",
       "        vertical-align: middle;\n",
       "    }\n",
       "\n",
       "    .dataframe tbody tr th {\n",
       "        vertical-align: top;\n",
       "    }\n",
       "\n",
       "    .dataframe thead th {\n",
       "        text-align: right;\n",
       "    }\n",
       "</style>\n",
       "<table border=\"1\" class=\"dataframe\">\n",
       "  <thead>\n",
       "    <tr style=\"text-align: right;\">\n",
       "      <th></th>\n",
       "      <th>latitud_ciudad</th>\n",
       "      <th>longitud_ciudad</th>\n",
       "      <th>puntuacion_usuarios</th>\n",
       "      <th>anio</th>\n",
       "    </tr>\n",
       "  </thead>\n",
       "  <tbody>\n",
       "    <tr>\n",
       "      <th>count</th>\n",
       "      <td>61252.000000</td>\n",
       "      <td>61252.000000</td>\n",
       "      <td>61252.000000</td>\n",
       "      <td>61252.000000</td>\n",
       "    </tr>\n",
       "    <tr>\n",
       "      <th>mean</th>\n",
       "      <td>27.868324</td>\n",
       "      <td>-82.256188</td>\n",
       "      <td>3.952237</td>\n",
       "      <td>2018.793362</td>\n",
       "    </tr>\n",
       "    <tr>\n",
       "      <th>std</th>\n",
       "      <td>0.887243</td>\n",
       "      <td>0.984925</td>\n",
       "      <td>0.629030</td>\n",
       "      <td>4.462955</td>\n",
       "    </tr>\n",
       "    <tr>\n",
       "      <th>min</th>\n",
       "      <td>24.547407</td>\n",
       "      <td>-87.431983</td>\n",
       "      <td>1.000000</td>\n",
       "      <td>2010.000000</td>\n",
       "    </tr>\n",
       "    <tr>\n",
       "      <th>25%</th>\n",
       "      <td>27.767127</td>\n",
       "      <td>-82.703433</td>\n",
       "      <td>3.500000</td>\n",
       "      <td>2015.000000</td>\n",
       "    </tr>\n",
       "    <tr>\n",
       "      <th>50%</th>\n",
       "      <td>27.951690</td>\n",
       "      <td>-82.458753</td>\n",
       "      <td>4.000000</td>\n",
       "      <td>2019.000000</td>\n",
       "    </tr>\n",
       "    <tr>\n",
       "      <th>75%</th>\n",
       "      <td>28.030276</td>\n",
       "      <td>-82.275647</td>\n",
       "      <td>4.500000</td>\n",
       "      <td>2024.000000</td>\n",
       "    </tr>\n",
       "    <tr>\n",
       "      <th>max</th>\n",
       "      <td>30.956469</td>\n",
       "      <td>-80.036594</td>\n",
       "      <td>5.000000</td>\n",
       "      <td>2024.000000</td>\n",
       "    </tr>\n",
       "  </tbody>\n",
       "</table>\n",
       "</div>"
      ],
      "text/plain": [
       "       latitud_ciudad  longitud_ciudad  puntuacion_usuarios          anio\n",
       "count    61252.000000     61252.000000         61252.000000  61252.000000\n",
       "mean        27.868324       -82.256188             3.952237   2018.793362\n",
       "std          0.887243         0.984925             0.629030      4.462955\n",
       "min         24.547407       -87.431983             1.000000   2010.000000\n",
       "25%         27.767127       -82.703433             3.500000   2015.000000\n",
       "50%         27.951690       -82.458753             4.000000   2019.000000\n",
       "75%         28.030276       -82.275647             4.500000   2024.000000\n",
       "max         30.956469       -80.036594             5.000000   2024.000000"
      ]
     },
     "execution_count": 27,
     "metadata": {},
     "output_type": "execute_result"
    }
   ],
   "source": [
    "puntajes_lat_long.describe()"
   ]
  },
  {
   "cell_type": "code",
   "execution_count": 70,
   "metadata": {},
   "outputs": [
    {
     "data": {
      "image/png": "[encoded data removed]",
      "text/plain": [
       "<Figure size 1000x600 with 1 Axes>"
      ]
     },
     "metadata": {},
     "output_type": "display_data"
    }
   ],
   "source": [
    "puntajes = puntajes_lat_long['puntuacion_usuarios']\n",
    "\n",
    "# Crear el histograma y la curva de densidad\n",
    "plt.figure(figsize=(10, 6))\n",
    "sns.histplot(puntajes, kde=True, color='blue')\n",
    "\n",
    "# Añadir títulos y etiquetas\n",
    "plt.title('Distribución de los Puntajes')\n",
    "plt.xlabel('Puntaje')\n",
    "plt.ylabel('Frecuencia')\n",
    "plt.grid(True)\n",
    "\n",
    "# Mostrar el gráfico\n",
    "plt.show()\n"
   ]
  },
  {
   "cell_type": "code",
   "execution_count": 71,
   "metadata": {},
   "outputs": [
    {
     "data": {
      "text/plain": [
       "12333"
      ]
     },
     "execution_count": 71,
     "metadata": {},
     "output_type": "execute_result"
    }
   ],
   "source": [
    "# Veamos la cantidad de restaurantes unicos que tenemos en nuestros datos a lo largo de los años 2010 - 2024.\n",
    "\n",
    "puntajes_lat_long['id_servicios_restaurantes'].nunique()"
   ]
  },
  {
   "cell_type": "code",
   "execution_count": 42,
   "metadata": {},
   "outputs": [
    {
     "data": {
      "text/plain": [
       "array([2024, 2010, 2011, 2012, 2013, 2014, 2015, 2016, 2017, 2018, 2019,\n",
       "       2020, 2021, 2022], dtype=int64)"
      ]
     },
     "execution_count": 42,
     "metadata": {},
     "output_type": "execute_result"
    }
   ],
   "source": [
    "puntajes_lat_long['anio'].unique()"
   ]
  },
  {
   "cell_type": "markdown",
   "metadata": {},
   "source": [
    "VAMOS A UTILIZAR SOLAMENTE LOS PUNTAJES QUE CORRESPONDEN A LOS ULTIMOS 5 AÑOS. ESTO ES PARA TENER UNA INFORMACION ACTUALIZADA."
   ]
  },
  {
   "cell_type": "code",
   "execution_count": 72,
   "metadata": {},
   "outputs": [
    {
     "data": {
      "text/plain": [
       "10433"
      ]
     },
     "execution_count": 72,
     "metadata": {},
     "output_type": "execute_result"
    }
   ],
   "source": [
    "puntajes_lat_long[(puntajes_lat_long['anio'] >= 2019) & (puntajes_lat_long['anio'] <= 2024)]['id_servicios_restaurantes'].nunique()"
   ]
  },
  {
   "cell_type": "code",
   "execution_count": null,
   "metadata": {},
   "outputs": [],
   "source": [
    "# Vamos a armar el dataset promediando el puntaje de los años \n",
    "# pero solo de los ultimos 5 años (2019 a 2024) para que corresponda un puntaje actualizado."
   ]
  },
  {
   "cell_type": "code",
   "execution_count": 73,
   "metadata": {},
   "outputs": [],
   "source": [
    "puntajes_lat_long = puntajes_lat_long[(puntajes_lat_long['anio'] >= 2019) & (puntajes_lat_long['anio'] <= 2024)]"
   ]
  },
  {
   "cell_type": "code",
   "execution_count": 96,
   "metadata": {},
   "outputs": [
    {
     "name": "stdout",
     "output_type": "stream",
     "text": [
      "<class 'pandas.core.frame.DataFrame'>\n",
      "Index: 32614 entries, 9139 to 70390\n",
      "Data columns (total 5 columns):\n",
      " #   Column                     Non-Null Count  Dtype  \n",
      "---  ------                     --------------  -----  \n",
      " 0   id_servicios_restaurantes  32614 non-null  object \n",
      " 1   latitud_ciudad             32614 non-null  float64\n",
      " 2   longitud_ciudad            32614 non-null  float64\n",
      " 3   puntuacion_usuarios        32614 non-null  float64\n",
      " 4   anio                       32614 non-null  int64  \n",
      "dtypes: float64(3), int64(1), object(1)\n",
      "memory usage: 1.5+ MB\n"
     ]
    }
   ],
   "source": [
    "puntajes_lat_long.info()"
   ]
  },
  {
   "cell_type": "code",
   "execution_count": 97,
   "metadata": {},
   "outputs": [],
   "source": [
    "df_puntajes_lat_long = puntajes_lat_long[['id_servicios_restaurantes','latitud_ciudad','longitud_ciudad','puntuacion_usuarios']]"
   ]
  },
  {
   "cell_type": "code",
   "execution_count": 98,
   "metadata": {},
   "outputs": [
    {
     "data": {
      "text/html": [
       "<div>\n",
       "<style scoped>\n",
       "    .dataframe tbody tr th:only-of-type {\n",
       "        vertical-align: middle;\n",
       "    }\n",
       "\n",
       "    .dataframe tbody tr th {\n",
       "        vertical-align: top;\n",
       "    }\n",
       "\n",
       "    .dataframe thead th {\n",
       "        text-align: right;\n",
       "    }\n",
       "</style>\n",
       "<table border=\"1\" class=\"dataframe\">\n",
       "  <thead>\n",
       "    <tr style=\"text-align: right;\">\n",
       "      <th></th>\n",
       "      <th>id_servicios_restaurantes</th>\n",
       "      <th>latitud_ciudad</th>\n",
       "      <th>longitud_ciudad</th>\n",
       "      <th>puntuacion_usuarios</th>\n",
       "    </tr>\n",
       "  </thead>\n",
       "  <tbody>\n",
       "    <tr>\n",
       "      <th>0</th>\n",
       "      <td>001OP</td>\n",
       "      <td>27.909467</td>\n",
       "      <td>-82.787324</td>\n",
       "      <td>4.0</td>\n",
       "    </tr>\n",
       "    <tr>\n",
       "      <th>1</th>\n",
       "      <td>005LV</td>\n",
       "      <td>28.240527</td>\n",
       "      <td>-82.327255</td>\n",
       "      <td>3.0</td>\n",
       "    </tr>\n",
       "    <tr>\n",
       "      <th>2</th>\n",
       "      <td>007VI</td>\n",
       "      <td>27.866136</td>\n",
       "      <td>-82.326481</td>\n",
       "      <td>4.0</td>\n",
       "    </tr>\n",
       "    <tr>\n",
       "      <th>3</th>\n",
       "      <td>00RWM</td>\n",
       "      <td>28.018632</td>\n",
       "      <td>-82.112864</td>\n",
       "      <td>5.0</td>\n",
       "    </tr>\n",
       "    <tr>\n",
       "      <th>4</th>\n",
       "      <td>00VHO</td>\n",
       "      <td>30.461862</td>\n",
       "      <td>-84.361670</td>\n",
       "      <td>4.3</td>\n",
       "    </tr>\n",
       "    <tr>\n",
       "      <th>...</th>\n",
       "      <td>...</td>\n",
       "      <td>...</td>\n",
       "      <td>...</td>\n",
       "      <td>...</td>\n",
       "    </tr>\n",
       "    <tr>\n",
       "      <th>10428</th>\n",
       "      <td>ZZ95V</td>\n",
       "      <td>27.767127</td>\n",
       "      <td>-82.638445</td>\n",
       "      <td>3.5</td>\n",
       "    </tr>\n",
       "    <tr>\n",
       "      <th>10429</th>\n",
       "      <td>ZZ99M</td>\n",
       "      <td>27.951690</td>\n",
       "      <td>-82.458753</td>\n",
       "      <td>4.0</td>\n",
       "    </tr>\n",
       "    <tr>\n",
       "      <th>10430</th>\n",
       "      <td>ZZCKQ</td>\n",
       "      <td>27.972065</td>\n",
       "      <td>-82.828588</td>\n",
       "      <td>3.5</td>\n",
       "    </tr>\n",
       "    <tr>\n",
       "      <th>10431</th>\n",
       "      <td>ZZNMA</td>\n",
       "      <td>27.742813</td>\n",
       "      <td>-82.750454</td>\n",
       "      <td>4.5</td>\n",
       "    </tr>\n",
       "    <tr>\n",
       "      <th>10432</th>\n",
       "      <td>ZZPV9</td>\n",
       "      <td>29.845411</td>\n",
       "      <td>-81.267671</td>\n",
       "      <td>4.7</td>\n",
       "    </tr>\n",
       "  </tbody>\n",
       "</table>\n",
       "<p>10433 rows × 4 columns</p>\n",
       "</div>"
      ],
      "text/plain": [
       "      id_servicios_restaurantes  latitud_ciudad  longitud_ciudad  \\\n",
       "0                         001OP       27.909467       -82.787324   \n",
       "1                         005LV       28.240527       -82.327255   \n",
       "2                         007VI       27.866136       -82.326481   \n",
       "3                         00RWM       28.018632       -82.112864   \n",
       "4                         00VHO       30.461862       -84.361670   \n",
       "...                         ...             ...              ...   \n",
       "10428                     ZZ95V       27.767127       -82.638445   \n",
       "10429                     ZZ99M       27.951690       -82.458753   \n",
       "10430                     ZZCKQ       27.972065       -82.828588   \n",
       "10431                     ZZNMA       27.742813       -82.750454   \n",
       "10432                     ZZPV9       29.845411       -81.267671   \n",
       "\n",
       "       puntuacion_usuarios  \n",
       "0                      4.0  \n",
       "1                      3.0  \n",
       "2                      4.0  \n",
       "3                      5.0  \n",
       "4                      4.3  \n",
       "...                    ...  \n",
       "10428                  3.5  \n",
       "10429                  4.0  \n",
       "10430                  3.5  \n",
       "10431                  4.5  \n",
       "10432                  4.7  \n",
       "\n",
       "[10433 rows x 4 columns]"
      ]
     },
     "execution_count": 98,
     "metadata": {},
     "output_type": "execute_result"
    }
   ],
   "source": [
    "df_puntajes_lat_long.groupby(by='id_servicios_restaurantes').mean().reset_index()"
   ]
  },
  {
   "cell_type": "code",
   "execution_count": 99,
   "metadata": {},
   "outputs": [],
   "source": [
    "df_puntajes_lat_long = df_puntajes_lat_long.groupby(by='id_servicios_restaurantes').mean().reset_index()"
   ]
  },
  {
   "cell_type": "code",
   "execution_count": 101,
   "metadata": {},
   "outputs": [
    {
     "name": "stdout",
     "output_type": "stream",
     "text": [
      "<class 'pandas.core.frame.DataFrame'>\n",
      "RangeIndex: 10433 entries, 0 to 10432\n",
      "Data columns (total 4 columns):\n",
      " #   Column                     Non-Null Count  Dtype  \n",
      "---  ------                     --------------  -----  \n",
      " 0   id_servicios_restaurantes  10433 non-null  object \n",
      " 1   latitud_ciudad             10433 non-null  float64\n",
      " 2   longitud_ciudad            10433 non-null  float64\n",
      " 3   puntuacion_usuarios        10433 non-null  float64\n",
      "dtypes: float64(3), object(1)\n",
      "memory usage: 326.2+ KB\n"
     ]
    }
   ],
   "source": [
    "df_puntajes_lat_long.info()"
   ]
  },
  {
   "cell_type": "code",
   "execution_count": 91,
   "metadata": {},
   "outputs": [
    {
     "data": {
      "image/png": "[encoded data removed]",
      "text/plain": [
       "<Figure size 1000x700 with 1 Axes>"
      ]
     },
     "metadata": {},
     "output_type": "display_data"
    }
   ],
   "source": [
    "df_puntajes_lat_long = pd.DataFrame(data)\n",
    "\n",
    "# Crear el mapa enfocado en Florida\n",
    "fig, ax = plt.subplots(figsize=(10, 7))\n",
    "mapa = Basemap(projection='merc', llcrnrlat=24, urcrnrlat=31, llcrnrlon=-87, urcrnrlon=-79, resolution='i')\n",
    "\n",
    "mapa.drawcoastlines()\n",
    "mapa.drawcountries()\n",
    "mapa.drawstates()\n",
    "\n",
    "# Convertir latitud y longitud a coordenadas x e y\n",
    "x, y = mapa(df_puntajes_lat_long['longitud_ciudad'].values, df_puntajes_lat_long['latitud_ciudad'].values)\n",
    "mapa.scatter(x, y, marker='o', color='r', zorder=5)\n",
    "\n",
    "# Mostrar el mapa\n",
    "plt.title('Distribución de Puntos en Florida')\n",
    "plt.show()\n"
   ]
  },
  {
   "cell_type": "code",
   "execution_count": 102,
   "metadata": {},
   "outputs": [],
   "source": [
    "df_puntajes_lat_long.to_csv('df_puntajes_lat_long.csv', index=False)"
   ]
  },
  {
   "cell_type": "code",
   "execution_count": 103,
   "metadata": {},
   "outputs": [],
   "source": [
    "df_puntajes_lat_long = pd.read_csv(r'C:\\Users\\franc\\OneDrive\\Escritorio\\Henry\\Cursado Henry\\PF\\ML_pruebas\\df_puntajes_lat_long.csv')"
   ]
  }
 ],
 "metadata": {
  "kernelspec": {
   "display_name": "Python 3",
   "language": "python",
   "name": "python3"
  },
  "language_info": {
   "codemirror_mode": {
    "name": "ipython",
    "version": 3
   },
   "file_extension": ".py",
   "mimetype": "text/x-python",
   "name": "python",
   "nbconvert_exporter": "python",
   "pygments_lexer": "ipython3",
   "version": "3.11.9"
  }
 },
 "nbformat": 4,
 "nbformat_minor": 2
}
