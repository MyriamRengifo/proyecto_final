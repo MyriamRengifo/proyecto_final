{
 "cells": [
  {
   "cell_type": "markdown",
   "metadata": {},
   "source": [
    "Metadata-sitios\n",
    "- Filtrado por Estado y Categoría\n",
    "- Exportación a formtato parquet"
   ]
  },
  {
   "cell_type": "code",
   "execution_count": 12,
   "metadata": {},
   "outputs": [],
   "source": [
    "import json\n",
    "import pandas as pd\n",
    "import sys\n",
    "import os\n",
    "\n",
    "# Agrega el directorio superior al path\n",
    "sys.path.append(os.path.abspath(\"..\"))\n",
    "\n",
    "from funciones.json2df import multiple_json2df\n"
   ]
  },
  {
   "cell_type": "markdown",
   "metadata": {},
   "source": [
    "Adecuar ruta"
   ]
  },
  {
   "cell_type": "code",
   "execution_count": 16,
   "metadata": {},
   "outputs": [],
   "source": [
    "# Archivos 1 - 3.json\n",
    "rutas = ['../metadata-sitios/1.json', '../metadata-sitios/2.json', '../metadata-sitios/3.json']\n",
    "sitios_b1 = multiple_json2df(rutas)"
   ]
  },
  {
   "cell_type": "code",
   "execution_count": 17,
   "metadata": {},
   "outputs": [],
   "source": [
    "rutas = ['../metadata-sitios/4.json', '../metadata-sitios/5.json', '../metadata-sitios/6.json']\n",
    "sitios_b2 = multiple_json2df(rutas)"
   ]
  },
  {
   "cell_type": "code",
   "execution_count": 18,
   "metadata": {},
   "outputs": [],
   "source": [
    "rutas = ['../metadata-sitios/7.json', '../metadata-sitios/8.json', '../metadata-sitios/9.json']\n",
    "sitios_b3 = multiple_json2df(rutas)"
   ]
  },
  {
   "cell_type": "code",
   "execution_count": 19,
   "metadata": {},
   "outputs": [],
   "source": [
    "rutas = ['../metadata-sitios/10.json', '../metadata-sitios/11.json']\n",
    "sitios_b4 = multiple_json2df(rutas)"
   ]
  },
  {
   "cell_type": "code",
   "execution_count": 20,
   "metadata": {},
   "outputs": [
    {
     "name": "stdout",
     "output_type": "stream",
     "text": [
      "(825003, 15)\n",
      "(825003, 15)\n",
      "(825003, 15)\n",
      "(550002, 15)\n"
     ]
    }
   ],
   "source": [
    "print(sitios_b1.shape)\n",
    "print(sitios_b2.shape)\n",
    "print(sitios_b3.shape)\n",
    "print(sitios_b4.shape)"
   ]
  },
  {
   "cell_type": "markdown",
   "metadata": {},
   "source": [
    "Filtración de negocios solo para Florida"
   ]
  },
  {
   "cell_type": "code",
   "execution_count": 21,
   "metadata": {},
   "outputs": [],
   "source": [
    "florida_sitios_b1 = sitios_b1.query( \"24.396308 <= latitude <= 31.000888 and -87.634938 <= longitude <= -80.031362\" ).reset_index(drop=True)\n",
    "florida_sitios_b2 = sitios_b2.query( \"24.396308 <= latitude <= 31.000888 and -87.634938 <= longitude <= -80.031362\" ).reset_index(drop=True)\n",
    "florida_sitios_b3 = sitios_b3.query( \"24.396308 <= latitude <= 31.000888 and -87.634938 <= longitude <= -80.031362\" ).reset_index(drop=True)\n",
    "florida_sitios_b4 = sitios_b4.query( \"24.396308 <= latitude <= 31.000888 and -87.634938 <= longitude <= -80.031362\" ).reset_index(drop=True)\n"
   ]
  },
  {
   "cell_type": "code",
   "execution_count": 22,
   "metadata": {},
   "outputs": [
    {
     "name": "stdout",
     "output_type": "stream",
     "text": [
      "(61822, 15)\n"
     ]
    },
    {
     "data": {
      "text/html": [
       "<div>\n",
       "<style scoped>\n",
       "    .dataframe tbody tr th:only-of-type {\n",
       "        vertical-align: middle;\n",
       "    }\n",
       "\n",
       "    .dataframe tbody tr th {\n",
       "        vertical-align: top;\n",
       "    }\n",
       "\n",
       "    .dataframe thead th {\n",
       "        text-align: right;\n",
       "    }\n",
       "</style>\n",
       "<table border=\"1\" class=\"dataframe\">\n",
       "  <thead>\n",
       "    <tr style=\"text-align: right;\">\n",
       "      <th></th>\n",
       "      <th>name</th>\n",
       "      <th>address</th>\n",
       "      <th>gmap_id</th>\n",
       "      <th>description</th>\n",
       "      <th>latitude</th>\n",
       "      <th>longitude</th>\n",
       "      <th>category</th>\n",
       "      <th>avg_rating</th>\n",
       "      <th>num_of_reviews</th>\n",
       "      <th>price</th>\n",
       "      <th>hours</th>\n",
       "      <th>MISC</th>\n",
       "      <th>state</th>\n",
       "      <th>relative_results</th>\n",
       "      <th>url</th>\n",
       "    </tr>\n",
       "  </thead>\n",
       "  <tbody>\n",
       "    <tr>\n",
       "      <th>0</th>\n",
       "      <td>NTK OUTDOOR</td>\n",
       "      <td>NTK OUTDOOR, 2315 NW 107th Ave #1B18, Miami, F...</td>\n",
       "      <td>0x88d9beb4fe0532c1:0xef0555c169299d6</td>\n",
       "      <td>None</td>\n",
       "      <td>25.795204</td>\n",
       "      <td>-80.366038</td>\n",
       "      <td>[Corporate office]</td>\n",
       "      <td>5.0</td>\n",
       "      <td>35</td>\n",
       "      <td>None</td>\n",
       "      <td>[[Thursday, 9AM–6PM], [Friday, 9AM–6PM], [Satu...</td>\n",
       "      <td>{'Accessibility': ['Wheelchair accessible entr...</td>\n",
       "      <td>Open ⋅ Closes 6PM</td>\n",
       "      <td>[0x88d9bfd49a624c3f:0x280afc17e8164d79, 0x88d9...</td>\n",
       "      <td>https://www.google.com/maps/place//data=!4m2!3...</td>\n",
       "    </tr>\n",
       "    <tr>\n",
       "      <th>1</th>\n",
       "      <td>Cruises Inc. - Connie Stewart</td>\n",
       "      <td>Cruises Inc. - Connie Stewart, 6602 52nd Ln, P...</td>\n",
       "      <td>0x88c2e49b79f06c31:0x4ed8c8ce27e926e0</td>\n",
       "      <td>None</td>\n",
       "      <td>27.832187</td>\n",
       "      <td>-82.704805</td>\n",
       "      <td>[Cruise agency]</td>\n",
       "      <td>5.0</td>\n",
       "      <td>2</td>\n",
       "      <td>None</td>\n",
       "      <td>[[Thursday, 9AM–5PM], [Friday, 9AM–5PM], [Satu...</td>\n",
       "      <td>None</td>\n",
       "      <td>Open ⋅ Closes 5PM</td>\n",
       "      <td>[0x88c2fd3f88a7ab09:0x56dad3c1999b618f, 0x88c2...</td>\n",
       "      <td>https://www.google.com/maps/place//data=!4m2!3...</td>\n",
       "    </tr>\n",
       "    <tr>\n",
       "      <th>2</th>\n",
       "      <td>Seminole Family Restaurant</td>\n",
       "      <td>Seminole Family Restaurant, 6864 Seminole Blvd...</td>\n",
       "      <td>0x88c2fb8614e57ce9:0x40b51628875ad6e9</td>\n",
       "      <td>None</td>\n",
       "      <td>27.834885</td>\n",
       "      <td>-82.787419</td>\n",
       "      <td>None</td>\n",
       "      <td>3.6</td>\n",
       "      <td>8</td>\n",
       "      <td>$$</td>\n",
       "      <td>None</td>\n",
       "      <td>None</td>\n",
       "      <td>None</td>\n",
       "      <td>[0x88c2fc799a3fa1ad:0x2d1a46c8f525bf3e, 0x88c2...</td>\n",
       "      <td>https://www.google.com/maps/place//data=!4m2!3...</td>\n",
       "    </tr>\n",
       "    <tr>\n",
       "      <th>3</th>\n",
       "      <td>First Impressions Barbershop Inc.</td>\n",
       "      <td>First Impressions Barbershop Inc., 577 Deltona...</td>\n",
       "      <td>0x88e711bd2244fe3b:0x8406dd780f0574d1</td>\n",
       "      <td>None</td>\n",
       "      <td>28.877581</td>\n",
       "      <td>-81.281276</td>\n",
       "      <td>[Barber shop]</td>\n",
       "      <td>4.0</td>\n",
       "      <td>8</td>\n",
       "      <td>None</td>\n",
       "      <td>[[Thursday, 8AM–8PM], [Friday, 8AM–8PM], [Satu...</td>\n",
       "      <td>{'Accessibility': ['Wheelchair accessible entr...</td>\n",
       "      <td>Open ⋅ Closes 8PM</td>\n",
       "      <td>[0x88e7139dd918b543:0x2a27a69f19adfc9, 0x88e71...</td>\n",
       "      <td>https://www.google.com/maps/place//data=!4m2!3...</td>\n",
       "    </tr>\n",
       "    <tr>\n",
       "      <th>4</th>\n",
       "      <td>Brian Shaheen, MD</td>\n",
       "      <td>Brian Shaheen, MD, 2421 Thomas Dr, Panama City...</td>\n",
       "      <td>0x8893863ea87bd5dd:0x9383ebf973e74abb</td>\n",
       "      <td>None</td>\n",
       "      <td>30.159982</td>\n",
       "      <td>-85.752277</td>\n",
       "      <td>[Family practice physician, General practitioner]</td>\n",
       "      <td>4.2</td>\n",
       "      <td>18</td>\n",
       "      <td>None</td>\n",
       "      <td>[[Thursday, 8AM–5PM], [Friday, 8AM–5PM], [Satu...</td>\n",
       "      <td>{'Service options': ['Online care'], 'Accessib...</td>\n",
       "      <td>Open ⋅ Closes 5PM</td>\n",
       "      <td>[0x88938ebfbd53f9c5:0xf6e52004f37523c8, 0x8893...</td>\n",
       "      <td>https://www.google.com/maps/place//data=!4m2!3...</td>\n",
       "    </tr>\n",
       "  </tbody>\n",
       "</table>\n",
       "</div>"
      ],
      "text/plain": [
       "                                name  \\\n",
       "0                        NTK OUTDOOR   \n",
       "1      Cruises Inc. - Connie Stewart   \n",
       "2         Seminole Family Restaurant   \n",
       "3  First Impressions Barbershop Inc.   \n",
       "4                  Brian Shaheen, MD   \n",
       "\n",
       "                                             address  \\\n",
       "0  NTK OUTDOOR, 2315 NW 107th Ave #1B18, Miami, F...   \n",
       "1  Cruises Inc. - Connie Stewart, 6602 52nd Ln, P...   \n",
       "2  Seminole Family Restaurant, 6864 Seminole Blvd...   \n",
       "3  First Impressions Barbershop Inc., 577 Deltona...   \n",
       "4  Brian Shaheen, MD, 2421 Thomas Dr, Panama City...   \n",
       "\n",
       "                                 gmap_id description   latitude  longitude  \\\n",
       "0   0x88d9beb4fe0532c1:0xef0555c169299d6        None  25.795204 -80.366038   \n",
       "1  0x88c2e49b79f06c31:0x4ed8c8ce27e926e0        None  27.832187 -82.704805   \n",
       "2  0x88c2fb8614e57ce9:0x40b51628875ad6e9        None  27.834885 -82.787419   \n",
       "3  0x88e711bd2244fe3b:0x8406dd780f0574d1        None  28.877581 -81.281276   \n",
       "4  0x8893863ea87bd5dd:0x9383ebf973e74abb        None  30.159982 -85.752277   \n",
       "\n",
       "                                            category  avg_rating  \\\n",
       "0                                 [Corporate office]         5.0   \n",
       "1                                    [Cruise agency]         5.0   \n",
       "2                                               None         3.6   \n",
       "3                                      [Barber shop]         4.0   \n",
       "4  [Family practice physician, General practitioner]         4.2   \n",
       "\n",
       "   num_of_reviews price                                              hours  \\\n",
       "0              35  None  [[Thursday, 9AM–6PM], [Friday, 9AM–6PM], [Satu...   \n",
       "1               2  None  [[Thursday, 9AM–5PM], [Friday, 9AM–5PM], [Satu...   \n",
       "2               8    $$                                               None   \n",
       "3               8  None  [[Thursday, 8AM–8PM], [Friday, 8AM–8PM], [Satu...   \n",
       "4              18  None  [[Thursday, 8AM–5PM], [Friday, 8AM–5PM], [Satu...   \n",
       "\n",
       "                                                MISC              state  \\\n",
       "0  {'Accessibility': ['Wheelchair accessible entr...  Open ⋅ Closes 6PM   \n",
       "1                                               None  Open ⋅ Closes 5PM   \n",
       "2                                               None               None   \n",
       "3  {'Accessibility': ['Wheelchair accessible entr...  Open ⋅ Closes 8PM   \n",
       "4  {'Service options': ['Online care'], 'Accessib...  Open ⋅ Closes 5PM   \n",
       "\n",
       "                                    relative_results  \\\n",
       "0  [0x88d9bfd49a624c3f:0x280afc17e8164d79, 0x88d9...   \n",
       "1  [0x88c2fd3f88a7ab09:0x56dad3c1999b618f, 0x88c2...   \n",
       "2  [0x88c2fc799a3fa1ad:0x2d1a46c8f525bf3e, 0x88c2...   \n",
       "3  [0x88e7139dd918b543:0x2a27a69f19adfc9, 0x88e71...   \n",
       "4  [0x88938ebfbd53f9c5:0xf6e52004f37523c8, 0x8893...   \n",
       "\n",
       "                                                 url  \n",
       "0  https://www.google.com/maps/place//data=!4m2!3...  \n",
       "1  https://www.google.com/maps/place//data=!4m2!3...  \n",
       "2  https://www.google.com/maps/place//data=!4m2!3...  \n",
       "3  https://www.google.com/maps/place//data=!4m2!3...  \n",
       "4  https://www.google.com/maps/place//data=!4m2!3...  "
      ]
     },
     "execution_count": 22,
     "metadata": {},
     "output_type": "execute_result"
    }
   ],
   "source": [
    "print(florida_sitios_b1.shape)\n",
    "florida_sitios_b1.head()"
   ]
  },
  {
   "cell_type": "markdown",
   "metadata": {},
   "source": [
    "Ranking de Negocios (10 primeros)"
   ]
  },
  {
   "cell_type": "code",
   "execution_count": 10,
   "metadata": {},
   "outputs": [],
   "source": [
    "# Expandir las categorias en filas separadas\n",
    "df = florida_sitios_b1.explode('category')\n",
    "\n",
    "# Contar la cantidad de ocurrencias por categoria\n",
    "category_count = df['category'].value_counts()\n",
    "\n",
    "# Convertirlo en un DataFrame\n",
    "category_b1 = category_count.reset_index()\n",
    "category_b1.columns = ['Category', 'Count']"
   ]
  },
  {
   "cell_type": "code",
   "execution_count": 11,
   "metadata": {},
   "outputs": [],
   "source": [
    "# Expandir las categorias en filas separadas\n",
    "df = florida_sitios_b2.explode('category')\n",
    "\n",
    "# Contar la cantidad de ocurrencias por categoria\n",
    "category_count = df['category'].value_counts()\n",
    "\n",
    "# Convertirlo en un DataFrame\n",
    "category_b2 = category_count.reset_index()\n",
    "category_b2.columns = ['Category', 'Count']"
   ]
  },
  {
   "cell_type": "code",
   "execution_count": 12,
   "metadata": {},
   "outputs": [],
   "source": [
    "# Expandir las categorias en filas separadas\n",
    "df = florida_sitios_b3.explode('category')\n",
    "\n",
    "# Contar la cantidad de ocurrencias por categoria\n",
    "category_count = df['category'].value_counts()\n",
    "\n",
    "# Convertirlo en un DataFrame\n",
    "category_b3 = category_count.reset_index()\n",
    "category_b3.columns = ['Category', 'Count']"
   ]
  },
  {
   "cell_type": "code",
   "execution_count": 13,
   "metadata": {},
   "outputs": [],
   "source": [
    "# Expandir las categorias en filas separadas\n",
    "df = florida_sitios_b4.explode('category')\n",
    "\n",
    "# Contar la cantidad de ocurrencias por categoria\n",
    "category_count = df['category'].value_counts()\n",
    "\n",
    "# Convertirlo en un DataFrame\n",
    "category_b4 = category_count.reset_index()\n",
    "category_b4.columns = ['Category', 'Count']"
   ]
  },
  {
   "cell_type": "code",
   "execution_count": 14,
   "metadata": {},
   "outputs": [
    {
     "name": "stdout",
     "output_type": "stream",
     "text": [
      "                   Category  Count\n",
      "2808             Restaurant   6859\n",
      "2943  Service establishment   6850\n",
      "242        Auto repair shop   4902\n",
      "341            Beauty salon   4832\n",
      "801       Convenience store   4353\n",
      "1533             Hair salon   4228\n",
      "1004                 Doctor   4076\n",
      "1425            Gas station   4045\n",
      "2251             Nail salon   3699\n",
      "1                       ATM   3355\n"
     ]
    }
   ],
   "source": [
    "# combinamos en uno solo\n",
    "all_category_counts = pd.concat([category_b1, category_b2, category_b3,category_b4 ])\n",
    "\n",
    "# Agrupa por category y sumar los 'Count'\n",
    "ranking_negocios = all_category_counts.groupby('Category')['Count'].sum().reset_index()\n",
    "\n",
    "# orden descendente\n",
    "ranking_negocios = ranking_negocios.sort_values(by='Count', ascending=False)\n",
    "\n",
    "print(ranking_negocios.head(10)) "
   ]
  },
  {
   "cell_type": "code",
   "execution_count": 23,
   "metadata": {},
   "outputs": [],
   "source": [
    "# Filtrar donde 'category' contiene 'Restaurant'\n",
    "florida_restaurants_b1 = florida_sitios_b1[florida_sitios_b1['category'].apply(lambda x: 'Restaurant' in x if isinstance(x, list) else False)].reset_index(drop=True)\n",
    "florida_restaurants_b2 = florida_sitios_b2[florida_sitios_b2['category'].apply(lambda x: 'Restaurant' in x if isinstance(x, list) else False)].reset_index(drop=True)\n",
    "florida_restaurants_b3 = florida_sitios_b3[florida_sitios_b3['category'].apply(lambda x: 'Restaurant' in x if isinstance(x, list) else False)].reset_index(drop=True)\n",
    "florida_restaurants_b4 = florida_sitios_b4[florida_sitios_b4['category'].apply(lambda x: 'Restaurant' in x if isinstance(x, list) else False)].reset_index(drop=True)"
   ]
  },
  {
   "cell_type": "code",
   "execution_count": 24,
   "metadata": {},
   "outputs": [
    {
     "name": "stdout",
     "output_type": "stream",
     "text": [
      "(1238, 15)\n",
      "(1393, 15)\n",
      "(2503, 15)\n",
      "(1725, 15)\n"
     ]
    }
   ],
   "source": [
    "print(florida_restaurants_b1.shape)\n",
    "print(florida_restaurants_b2.shape)\n",
    "print(florida_restaurants_b3.shape)\n",
    "print(florida_restaurants_b4.shape)"
   ]
  },
  {
   "cell_type": "markdown",
   "metadata": {},
   "source": [
    "Concatenación de Metadata-Sitios por Estado= Florida y category= Restaurant"
   ]
  },
  {
   "cell_type": "code",
   "execution_count": 25,
   "metadata": {},
   "outputs": [
    {
     "name": "stdout",
     "output_type": "stream",
     "text": [
      "(6859, 15)\n"
     ]
    }
   ],
   "source": [
    "florida_restaurants = pd.concat([florida_restaurants_b1, florida_restaurants_b2, florida_restaurants_b3,florida_restaurants_b4 ])\n",
    "print(florida_restaurants.shape)"
   ]
  },
  {
   "cell_type": "code",
   "execution_count": 26,
   "metadata": {},
   "outputs": [
    {
     "data": {
      "text/plain": [
       "Index(['name', 'address', 'gmap_id', 'description', 'latitude', 'longitude',\n",
       "       'category', 'avg_rating', 'num_of_reviews', 'price', 'hours', 'MISC',\n",
       "       'state', 'relative_results', 'url'],\n",
       "      dtype='object')"
      ]
     },
     "execution_count": 26,
     "metadata": {},
     "output_type": "execute_result"
    }
   ],
   "source": [
    "florida_restaurants.columns"
   ]
  },
  {
   "cell_type": "code",
   "execution_count": null,
   "metadata": {},
   "outputs": [],
   "source": [
    "# florida_restaurants.drop(['gmap_id', 'relative_results', 'url'], axis=1, inplace=True)"
   ]
  },
  {
   "cell_type": "markdown",
   "metadata": {},
   "source": [
    "Exportación dataset parquet"
   ]
  },
  {
   "cell_type": "code",
   "execution_count": 28,
   "metadata": {},
   "outputs": [],
   "source": [
    "florida_restaurants.to_parquet('../Datasets/florida_restaurants.parquet', engine='pyarrow')\n"
   ]
  }
 ],
 "metadata": {
  "kernelspec": {
   "display_name": "Python 3",
   "language": "python",
   "name": "python3"
  },
  "language_info": {
   "codemirror_mode": {
    "name": "ipython",
    "version": 3
   },
   "file_extension": ".py",
   "mimetype": "text/x-python",
   "name": "python",
   "nbconvert_exporter": "python",
   "pygments_lexer": "ipython3",
   "version": "3.11.2"
  }
 },
 "nbformat": 4,
 "nbformat_minor": 2
}
